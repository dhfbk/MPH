{
 "cells": [
  {
   "cell_type": "code",
   "execution_count": null,
   "id": "initial_id",
   "metadata": {},
   "outputs": [],
   "source": [
    "!pip install bitsandbytes"
   ]
  },
  {
   "cell_type": "code",
   "execution_count": null,
   "id": "c07f9b1b4b85a348",
   "metadata": {},
   "outputs": [],
   "source": [
    "!pip install ipywidgets\n",
    "!jupyter nbextension enable --py widgetsnbextension"
   ]
  },
  {
   "cell_type": "code",
   "execution_count": null,
   "outputs": [],
   "source": [
    "summary_input_path = 'prompts/summary_prompts.pkl'\n",
    "summary_output_path = 'output/summary_medium_ubuntu.pkl'\n",
    "description_input_path = 'prompts/description_prompts.pkl'\n",
    "description_output_path = 'output/description_medium_ubuntu.pkl'"
   ],
   "metadata": {
    "collapsed": false
   },
   "id": "6d7fe0197f0ed79f"
  },
  {
   "cell_type": "code",
   "execution_count": null,
   "id": "d7c2a49688b87f7d",
   "metadata": {},
   "outputs": [],
   "source": [
    "# !pip install --upgrade huggingface_hub\n",
    "\n",
    "from huggingface_hub import login\n",
    "login(\"YOUR_KEY\")"
   ]
  },
  {
   "cell_type": "code",
   "execution_count": null,
   "id": "16f82608700ef627",
   "metadata": {},
   "outputs": [],
   "source": [
    "from transformers import AutoTokenizer, AutoModelForCausalLM, BitsAndBytesConfig, GenerationConfig\n",
    "import transformers\n",
    "from tqdm.notebook import tqdm \n",
    "import torch\n",
    "\n",
    "device = torch.device(\"cuda:0\" if torch.cuda.is_available() else \"cpu\")\n",
    "\n",
    "model_name = \"meta-llama/Llama-2-13b-chat-hf\"\n",
    "\n",
    "model = AutoModelForCausalLM.from_pretrained(\n",
    "    model_name,\n",
    "    torch_dtype=torch.float16,\n",
    "    device_map={\"\": 0}\n",
    ")\n",
    "\n",
    "tokenizer = AutoTokenizer.from_pretrained(model_name)"
   ]
  },
  {
   "cell_type": "code",
   "execution_count": null,
   "id": "6391634b",
   "metadata": {},
   "outputs": [],
   "source": [
    "pipeline = transformers.pipeline(\n",
    "    \"text-generation\",\n",
    "    model=model,\n",
    "    tokenizer=tokenizer,\n",
    "    torch_dtype=torch.float16,\n",
    "    device_map=\"auto\",\n",
    ")"
   ]
  },
  {
   "cell_type": "code",
   "execution_count": null,
   "id": "95f61a3b",
   "metadata": {},
   "outputs": [],
   "source": [
    "!pip install evaluate"
   ]
  },
  {
   "cell_type": "markdown",
   "source": [
    "# SUMMARIES"
   ],
   "metadata": {
    "collapsed": false
   },
   "id": "1cc1b854610a3c81"
  },
  {
   "cell_type": "code",
   "execution_count": null,
   "id": "8d576826",
   "metadata": {},
   "outputs": [],
   "source": [
    "import pickle\n",
    "    \n",
    "with open(summary_input_path, 'rb') as f:\n",
    "    summary_samples = pickle.load(f)"
   ]
  },
  {
   "cell_type": "code",
   "execution_count": null,
   "id": "7ab3bd74",
   "metadata": {
    "scrolled": true
   },
   "outputs": [],
   "source": [
    "print(summary_samples[2])"
   ]
  },
  {
   "cell_type": "code",
   "execution_count": null,
   "id": "10a8e8b8",
   "metadata": {},
   "outputs": [],
   "source": [
    "summaries = list()\n",
    "\n",
    "for s in summary_samples:\n",
    "    \n",
    "    sequences = pipeline(\n",
    "          s,\n",
    "          do_sample=True,\n",
    "          top_k=1,\n",
    "          num_return_sequences=1,\n",
    "          eos_token_id=tokenizer.eos_token_id,\n",
    "          max_length=4096,\n",
    "    )\n",
    "    \n",
    "    for seq in sequences:\n",
    "        out = seq['generated_text'][len(s):]\n",
    "        idx = out.find(\"[SUMMARY]:\") + len(\"[SUMMARY]:\")\n",
    "        \n",
    "        summaries.append(out[idx:])\n",
    "    \n"
   ]
  },
  {
   "cell_type": "code",
   "execution_count": null,
   "outputs": [],
   "source": [
    "with open(summary_output_path, 'wb') as f:\n",
    "    pickle.dump(summaries, f)"
   ],
   "metadata": {
    "collapsed": false
   },
   "id": "fe58f8d2"
  },
  {
   "cell_type": "markdown",
   "source": [
    "# DESCRIPTIONS"
   ],
   "metadata": {
    "collapsed": false
   },
   "id": "456fbb785d17eafc"
  },
  {
   "cell_type": "code",
   "execution_count": null,
   "id": "46947dc9",
   "metadata": {},
   "outputs": [],
   "source": [
    "import pickle\n",
    "    \n",
    "with open(description_input_path, 'rb') as f:\n",
    "    desc_samples = pickle.load(f)"
   ]
  },
  {
   "cell_type": "code",
   "execution_count": null,
   "id": "f8a691b8",
   "metadata": {},
   "outputs": [],
   "source": [
    "print(len(desc_samples))"
   ]
  },
  {
   "cell_type": "code",
   "execution_count": null,
   "id": "8f09a703",
   "metadata": {},
   "outputs": [],
   "source": [
    "print(desc_samples[1])"
   ]
  },
  {
   "cell_type": "code",
   "execution_count": null,
   "id": "7bcd78be",
   "metadata": {},
   "outputs": [],
   "source": [
    "description = list()\n",
    "\n",
    "for d in desc_samples:\n",
    "    \n",
    "    sequences = pipeline(\n",
    "          d,\n",
    "          do_sample=True,\n",
    "          top_k=1,\n",
    "          num_return_sequences=1,\n",
    "          eos_token_id=tokenizer.eos_token_id,\n",
    "          max_length=4096,\n",
    "    )\n",
    "    \n",
    "    for seq in sequences:\n",
    "        out = seq['generated_text'][len(d):]\n",
    "        idx = out.find(\"[DESCRIPTION]:\") + len(\"[DESCRIPTION]:\")\n",
    "        \n",
    "        description.append(out[idx:])"
   ]
  },
  {
   "cell_type": "code",
   "execution_count": null,
   "id": "3421d178",
   "metadata": {},
   "outputs": [],
   "source": [
    "with open(description_output_path, 'wb') as f:\n",
    "    pickle.dump(description, f)"
   ]
  }
 ],
 "metadata": {
  "kernelspec": {
   "display_name": "Python 3 (ipykernel)",
   "language": "python",
   "name": "python3"
  },
  "language_info": {
   "codemirror_mode": {
    "name": "ipython",
    "version": 3
   },
   "file_extension": ".py",
   "mimetype": "text/x-python",
   "name": "python",
   "nbconvert_exporter": "python",
   "pygments_lexer": "ipython3",
   "version": "3.10.12"
  }
 },
 "nbformat": 4,
 "nbformat_minor": 5
}
