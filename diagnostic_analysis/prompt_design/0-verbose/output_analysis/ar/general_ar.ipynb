{
 "cells": [
  {
   "cell_type": "code",
   "execution_count": 1,
   "outputs": [],
   "source": [
    "ar_conv_path = 'out_ar/ar_conv_out.pkl'\n",
    "ar_conv_struct_path = 'out_ar/ar_conv_struct_out.pkl'\n",
    "ar_struct_summ_path = 'out_ar/ar_struct_summ_out.pkl'\n",
    "ar_struct_desc_path = 'out_ar/ar_struct_desc_out.pkl'\n",
    "ar_struct_summ_desc_path = 'out_ar/ar_struct_summ_desc_out.pkl'"
   ],
   "metadata": {
    "collapsed": false,
    "ExecuteTime": {
     "end_time": "2024-05-08T11:08:04.027150Z",
     "start_time": "2024-05-08T11:08:04.015500Z"
    }
   },
   "id": "5093821434466699"
  },
  {
   "cell_type": "code",
   "execution_count": 2,
   "outputs": [],
   "source": [
    "import pickle\n",
    "\n",
    "with open(ar_conv_path, 'rb') as f:\n",
    "    ar_conv_out = pickle.load(f)\n",
    "\n",
    "with open(ar_conv_struct_path, 'rb') as f:\n",
    "    ar_conv_struct_out = pickle.load(f)\n",
    "\n",
    "with open(ar_struct_summ_path, 'rb') as f:\n",
    "    ar_struct_summ_out = pickle.load(f)\n",
    "\n",
    "with open(ar_struct_desc_path, 'rb') as f:\n",
    "    ar_struct_desc_out = pickle.load(f)\n",
    "\n",
    "with open(ar_struct_summ_desc_path, 'rb') as f:\n",
    "    ar_struct_summ_desc_out = pickle.load(f)"
   ],
   "metadata": {
    "collapsed": false,
    "ExecuteTime": {
     "end_time": "2024-05-08T11:08:04.046397Z",
     "start_time": "2024-05-08T11:08:04.026721Z"
    }
   },
   "id": "initial_id"
  },
  {
   "cell_type": "code",
   "execution_count": 3,
   "outputs": [
    {
     "name": "stdout",
     "output_type": "stream",
     "text": [
      "0.4141732283464567\n",
      "0.584251968503937\n",
      "0.5165354330708661\n",
      "0.49921259842519683\n",
      "0.47244094488188976\n"
     ]
    }
   ],
   "source": [
    "print(sum(ar_conv_out[\"row\"])/len(ar_conv_out[\"row\"]))\n",
    "print(sum(ar_conv_struct_out[\"row\"])/len(ar_conv_struct_out[\"row\"]))\n",
    "print(sum(ar_struct_summ_out[\"row\"])/len(ar_struct_summ_out[\"row\"]))\n",
    "print(sum(ar_struct_desc_out[\"row\"])/len(ar_struct_desc_out[\"row\"]))\n",
    "print(sum(ar_struct_summ_desc_out[\"row\"])/len(ar_struct_summ_desc_out[\"row\"]))"
   ],
   "metadata": {
    "collapsed": false,
    "ExecuteTime": {
     "end_time": "2024-05-08T11:08:04.066834Z",
     "start_time": "2024-05-08T11:08:04.046953Z"
    }
   },
   "id": "dced5bed216c9e8"
  },
  {
   "cell_type": "code",
   "execution_count": null,
   "outputs": [],
   "source": [],
   "metadata": {
    "collapsed": false
   },
   "id": "1d925b1f2a16551e"
  }
 ],
 "metadata": {
  "kernelspec": {
   "display_name": "Python 3",
   "language": "python",
   "name": "python3"
  },
  "language_info": {
   "codemirror_mode": {
    "name": "ipython",
    "version": 2
   },
   "file_extension": ".py",
   "mimetype": "text/x-python",
   "name": "python",
   "nbconvert_exporter": "python",
   "pygments_lexer": "ipython2",
   "version": "2.7.6"
  }
 },
 "nbformat": 4,
 "nbformat_minor": 5
}
