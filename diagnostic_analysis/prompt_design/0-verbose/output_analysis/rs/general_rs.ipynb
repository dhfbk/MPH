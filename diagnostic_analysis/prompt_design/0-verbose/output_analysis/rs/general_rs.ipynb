{
 "cells": [
  {
   "cell_type": "code",
   "execution_count": 3,
   "outputs": [],
   "source": [
    "rs_conv_path = 'out_rs/rs_conv_out.pkl'\n",
    "rs_conv_struct_path = 'out_rs/rs_conv_struct_out.pkl'\n",
    "rs_struct_summ_path = 'out_rs/rs_struct_summ_out.pkl'\n",
    "rs_struct_desc_path = 'out_rs/rs_struct_desc_out.pkl'\n",
    "rs_struct_summ_desc_path = 'out_rs/rs_struct_summ_desc_out.pkl'"
   ],
   "metadata": {
    "collapsed": false,
    "ExecuteTime": {
     "end_time": "2024-05-08T11:07:40.015882Z",
     "start_time": "2024-05-08T11:07:39.998239Z"
    }
   },
   "id": "5093821434466699"
  },
  {
   "cell_type": "code",
   "execution_count": 4,
   "outputs": [],
   "source": [
    "import pickle\n",
    "\n",
    "with open(rs_conv_path, 'rb') as f:\n",
    "    rs_conv_out = pickle.load(f)\n",
    "\n",
    "with open(rs_conv_struct_path, 'rb') as f:\n",
    "    rs_conv_struct_out = pickle.load(f)\n",
    "\n",
    "with open(rs_struct_summ_path, 'rb') as f:\n",
    "    rs_struct_summ_out = pickle.load(f)\n",
    "\n",
    "with open(rs_struct_desc_path, 'rb') as f:\n",
    "    rs_struct_desc_out = pickle.load(f)\n",
    "\n",
    "with open(rs_struct_summ_desc_path, 'rb') as f:\n",
    "    rs_struct_summ_desc_out = pickle.load(f)"
   ],
   "metadata": {
    "collapsed": false,
    "ExecuteTime": {
     "end_time": "2024-05-08T11:07:40.223613Z",
     "start_time": "2024-05-08T11:07:40.211183Z"
    }
   },
   "id": "initial_id"
  },
  {
   "cell_type": "code",
   "execution_count": 5,
   "outputs": [
    {
     "name": "stdout",
     "output_type": "stream",
     "text": [
      "0.6267716535433071\n",
      "0.6110236220472441\n",
      "0.5700787401574803\n",
      "0.552755905511811\n",
      "0.5700787401574803\n"
     ]
    }
   ],
   "source": [
    "print(sum(rs_conv_out[\"row\"])/len(rs_conv_out[\"row\"]))\n",
    "print(sum(rs_conv_struct_out[\"row\"])/len(rs_conv_struct_out[\"row\"]))\n",
    "print(sum(rs_struct_summ_out[\"row\"])/len(rs_struct_summ_out[\"row\"]))\n",
    "print(sum(rs_struct_desc_out[\"row\"])/len(rs_struct_desc_out[\"row\"]))\n",
    "print(sum(rs_struct_summ_desc_out[\"row\"])/len(rs_struct_summ_desc_out[\"row\"]))"
   ],
   "metadata": {
    "collapsed": false,
    "ExecuteTime": {
     "end_time": "2024-05-08T11:07:40.382389Z",
     "start_time": "2024-05-08T11:07:40.375384Z"
    }
   },
   "id": "dced5bed216c9e8"
  },
  {
   "cell_type": "code",
   "execution_count": null,
   "outputs": [],
   "source": [],
   "metadata": {
    "collapsed": false
   },
   "id": "e1cfa6f5ef5bfd9"
  }
 ],
 "metadata": {
  "kernelspec": {
   "display_name": "Python 3",
   "language": "python",
   "name": "python3"
  },
  "language_info": {
   "codemirror_mode": {
    "name": "ipython",
    "version": 2
   },
   "file_extension": ".py",
   "mimetype": "text/x-python",
   "name": "python",
   "nbconvert_exporter": "python",
   "pygments_lexer": "ipython2",
   "version": "2.7.6"
  }
 },
 "nbformat": 4,
 "nbformat_minor": 5
}
