{
 "cells": [
  {
   "cell_type": "code",
   "execution_count": 1,
   "outputs": [],
   "source": [
    "%reset"
   ],
   "metadata": {
    "collapsed": false,
    "ExecuteTime": {
     "end_time": "2024-05-16T12:33:10.165710Z",
     "start_time": "2024-05-16T12:33:09.246804Z"
    }
   },
   "id": "5cee758890f1380b"
  },
  {
   "cell_type": "code",
   "execution_count": 2,
   "outputs": [],
   "source": [
    "prompt_configuration = 'prompt_scheme_verbose.pkl'\n",
    "\n",
    "dataset_sample = 'data/medium_ubuntu.pkl'\n",
    "\n",
    "dataset_summary = 'data/summary_medium_ubuntu.pkl'\n",
    "\n",
    "dataset_description = 'data/description_medium_ubuntu.pkl'"
   ],
   "metadata": {
    "collapsed": false,
    "ExecuteTime": {
     "end_time": "2024-05-16T12:33:10.530768Z",
     "start_time": "2024-05-16T12:33:10.514365Z"
    }
   },
   "id": "bdbb6f8d68551140"
  },
  {
   "cell_type": "code",
   "execution_count": 3,
   "outputs": [],
   "source": [
    "import pickle\n",
    "from prompt_creation import infoPrompt\n",
    "import numpy as np\n",
    "\n",
    "with open(prompt_configuration, 'rb') as f:\n",
    "    prompt = pickle.load(f)\n",
    "    \n",
    "with open(dataset_sample, 'rb') as f:\n",
    "    sample = pickle.load(f)\n",
    "\n",
    "with open(dataset_summary, 'rb') as f:\n",
    "    summary =pickle.load(f)\n",
    "\n",
    "with open(dataset_description, 'rb') as f:\n",
    "    description = pickle.load(f)\n",
    "\n",
    "from prompt_creation import PromptLlamaMPC\n",
    "\n",
    "prompt_generator = PromptLlamaMPC(prompt)"
   ],
   "metadata": {
    "collapsed": false,
    "ExecuteTime": {
     "end_time": "2024-05-16T12:33:11.145543Z",
     "start_time": "2024-05-16T12:33:10.903309Z"
    }
   },
   "id": "32b51aba2335b303"
  },
  {
   "cell_type": "code",
   "execution_count": 4,
   "outputs": [],
   "source": [
    "def conversation_basic(posts, speakers, user_tag):\n",
    "    history = \"\"\n",
    "    \n",
    "    i = 1\n",
    "\n",
    "    for p, s in zip(posts, speakers):\n",
    "        history += str(i) + \" : \" + user_tag[s] + \" [WRITES] \" + p + \"\\n\"\n",
    "        i = i + 1\n",
    "\n",
    "    history = history[:-1]\n",
    "\n",
    "    return history"
   ],
   "metadata": {
    "collapsed": false,
    "ExecuteTime": {
     "end_time": "2024-05-16T12:33:11.693202Z",
     "start_time": "2024-05-16T12:33:11.685340Z"
    }
   },
   "id": "58ab24b722025861"
  },
  {
   "cell_type": "code",
   "execution_count": 5,
   "outputs": [],
   "source": [
    "def conversation_interaction(speakers, addrs, user_tag):\n",
    "    history = \"\"\n",
    "\n",
    "    last_diff_user = 16\n",
    "    last_user = 16\n",
    "    \n",
    "    i = 1\n",
    "\n",
    "    for s, a in zip(speakers, addrs):\n",
    "        final_a = a\n",
    "\n",
    "        if last_user != s:\n",
    "            last_diff_user = last_user\n",
    "        if a == 17:\n",
    "            final_a = last_diff_user\n",
    "        last_user = s\n",
    "\n",
    "        if final_a == 16:\n",
    "            final_a = -1\n",
    "\n",
    "        history += str(i) + \" : \" + user_tag[s] + \" to \" + user_tag[final_a] + \"\\n\"\n",
    "        \n",
    "        i = i + 1\n",
    "\n",
    "    history = history[:-1]\n",
    "\n",
    "    return history"
   ],
   "metadata": {
    "collapsed": false,
    "ExecuteTime": {
     "end_time": "2024-05-16T12:33:12.140397Z",
     "start_time": "2024-05-16T12:33:12.123159Z"
    }
   },
   "id": "fc41541776927327"
  },
  {
   "cell_type": "code",
   "execution_count": 6,
   "outputs": [],
   "source": [
    "basic_conv = list()\n",
    "struct_conv = list()\n",
    "\n",
    "for s in sample:\n",
    "    basic_conv.append(conversation_basic(s.context, s.spk_agents, [\"[ALEX]\", \"[BENNY]\", \"[CAM]\", \"[DANA]\", \"[OTHER]\"]))\n",
    "    struct_conv.append(conversation_interaction(s.spk_agents, s.adr_agents, [\"[ALEX]\", \"[BENNY]\", \"[CAM]\", \"[DANA]\", \"[OTHER]\"]))"
   ],
   "metadata": {
    "collapsed": false,
    "ExecuteTime": {
     "end_time": "2024-05-16T12:33:13.055510Z",
     "start_time": "2024-05-16T12:33:13.024135Z"
    }
   },
   "id": "5d2d819f9ddb853c"
  },
  {
   "cell_type": "code",
   "execution_count": 7,
   "outputs": [
    {
     "name": "stdout",
     "output_type": "stream",
     "text": [
      "1 : [ALEX] [WRITES] i would just set up vnc if i were you : https : //www.howtoforge.com/how-to-install-vnc-server-on-ubuntu-14.04\n",
      "2 : [CAM] [WRITES] if you already have x running , then all you 'd need would be to `` display=:0 ebook-convert blah ''\n",
      "3 : [ALEX] [WRITES] you can either re-connect to the vnc section when you need to come back to it , or you can use tmux and have to option to re-connect to the command via ssh\n",
      "4 : [ALEX] [WRITES] s/vnc section/vnc server/\n",
      "5 : [BENNY] [WRITES] um how do you start transmission ?\n",
      "6 : [CAM] [WRITES] transmission-gtk\n",
      "7 : [ALEX] [WRITES] how to block sftp ?\n",
      "8 : [DANA] [WRITES] i 've set `export display=:0`\n",
      "9 : [CAM] [WRITES] note - that only works if you do indeed have x running\n",
      "10 : [DANA] [WRITES] and still the same message : can not connect to x server :0\n",
      "11 : [BENNY] [WRITES] ( transmission-gtk:3383 ) : gtk-warning ** : can not open display :\n",
      "12 : [DANA] [WRITES] ok , maybe i 'll try with vnc\n",
      "13 : [DANA] [WRITES] thanks !\n",
      "14 : [CAM] [WRITES] you do need a display to run it\n",
      "15 : [BENNY] [WRITES] so how do i run it in terminal so i can then open the webui for it ?\n"
     ]
    }
   ],
   "source": [
    "print(basic_conv[8])"
   ],
   "metadata": {
    "collapsed": false,
    "ExecuteTime": {
     "end_time": "2024-05-16T12:33:13.434662Z",
     "start_time": "2024-05-16T12:33:13.408182Z"
    }
   },
   "id": "f4a5313bf6d9d913"
  },
  {
   "cell_type": "code",
   "execution_count": 8,
   "outputs": [
    {
     "name": "stdout",
     "output_type": "stream",
     "text": [
      "1 : [ALEX] to [DANA]\n",
      "2 : [CAM] to [ALEX]\n",
      "3 : [ALEX] to [DANA]\n",
      "4 : [ALEX] to [CAM]\n",
      "5 : [BENNY] to [ALEX]\n",
      "6 : [CAM] to [BENNY]\n",
      "7 : [ALEX] to [OTHER]\n",
      "8 : [DANA] to [CAM]\n",
      "9 : [CAM] to [DANA]\n",
      "10 : [DANA] to [CAM]\n",
      "11 : [BENNY] to [DANA]\n",
      "12 : [DANA] to [BENNY]\n",
      "13 : [DANA] to [BENNY]\n",
      "14 : [CAM] to [BENNY]\n",
      "15 : [BENNY] to [CAM]\n"
     ]
    }
   ],
   "source": [
    "print(struct_conv[8])"
   ],
   "metadata": {
    "collapsed": false,
    "ExecuteTime": {
     "end_time": "2024-05-16T12:33:13.966933Z",
     "start_time": "2024-05-16T12:33:13.950803Z"
    }
   },
   "id": "eff856f676391714"
  },
  {
   "cell_type": "markdown",
   "source": [
    "# SUMMARY"
   ],
   "metadata": {
    "collapsed": false
   },
   "id": "d5d1d3aeb4541ebc"
  },
  {
   "cell_type": "code",
   "execution_count": 10,
   "outputs": [
    {
     "name": "stdout",
     "output_type": "stream",
     "text": [
      "<s>[INST]<<SYS>>\n",
      "\n",
      "You are a system working on conversations. \n",
      "\n",
      "A conversation is a sequence of messages exchanged among two or more users. \n",
      "Each message is a string of text.\n",
      "Each message is associated with a speaker and an addressee.\n",
      "Each message has an integer index according to the order of the messages in the conversation.\n",
      "The speaker is the user who wrote the message.\n",
      "The addressee is the user to whom the message is directed.\n",
      "Each user can be the speaker of multiple messages and the addressee of multiple messages.\n",
      "\n",
      " You are given in input the following information about a conversation, listed in the following bullet point list.\n",
      "\n",
      " * The transcript of the messages of the conversation, reporting the index, the user id of the speaker and the text of each message in chronological order.\n",
      "\n",
      " * The transcript of the interactions of the conversation, reporting the index, the user id of the speaker and the user id of the addressee of each message in chronological order.\n",
      "\n",
      "Based on the information provided and the user id of the speaker of the next message, you have to write the summary of the conversation from the perspective of the speaker of the next message. \n",
      "You have to do it by identifying three main topics and for each topic write an explanation, focusing also on how the speaker of the next message interacts with the other users. \n",
      "Use bullet points.\n",
      "The speaker of the next message will write the next message and select the addressee of the next message based on your summary.\n",
      "\n",
      "The user ids of the user involved in the conversation are [ALEX], [BENNY], [CAM] and [DANA]. The user ids are used to identify the speakers and the addressees in the conversation.\n",
      "The same user id in the conversation refers to the same user, independently of the position in the conversation and on being speaker or addressee.\n",
      "Each speaker can address to one of the users or to [OTHER].\n",
      "[OTHER] means they are addressing to a speaker not in the conversation.\n",
      "\n",
      "The transcript of the messages of the conversation is reported between the tags [CONVERSATION] and [/CONVERSATION]. The format used for each message is:\n",
      "    \n",
      "<N_TURN> : <SPEAKER_ID> [WRITES] <TEXT>\n",
      "    \n",
      "where the index of the message is reported by tag <N_TURN>, the user id of the speaker of the message is reported by the tag <SPEAKER_ID>, and the text of the message written by the speaker is reported by the tag <TEXT>.\n",
      "\n",
      "The transcript of the interactions of the conversation is reported between the tags [INTERACTION] and [/INTERACTION]. The format used for each message is:\n",
      "    \n",
      "<N_TURN> : <SPEAKER_ID> to <ADDRESSEE_ID>\n",
      "  \n",
      "where the index of the message is reported by the tag <N_TURN>, the user id of the speaker of the message is reported by the tag <SPEAKER_ID> and the user id of addressee of the message is reported by the tag <ADDRESSEE_ID>.\n",
      "\n",
      "You will be given the instruction\n",
      "    \n",
      "Summarize <NEXT_SPEAKER_ID>.\n",
      "    \n",
      "Where <NEXT_SPEAKER_ID> is the user id of the speaker of the next message.\n",
      "<NEXT_SPEAKER_ID> is among the <SPEAKER_ID> appeared in the conversation.\n",
      "    \n",
      "You will output the summary of the conversations from the perspective of the speaker of the next message with id <NEXT_SPEAKER_ID>, without any formality at the beginning.\n",
      "\n",
      "Your answer format must be as follows:\n",
      "[SUMMARY]:\n",
      "    * TOPIC: <TOPIC1>  \n",
      "        + EXPLANATION: <EXPLANATION1>\n",
      "    * TOPIC: <TOPIC2> \n",
      "        + EXPLANATION: <EXPLANATION2>\n",
      "    * TOPIC: <TOPIC3> \n",
      "        + EXPLANATION: <EXPLANATION3>\n",
      "\n",
      "<</SYS>>\n",
      "\n",
      "[CONVERSATION]\n",
      "1 : [BENNY] [WRITES] they even interview live\n",
      "2 : [BENNY] [WRITES] cc okes i think\n",
      "3 : [ALEX] [WRITES] gremble what is that ?\n",
      "4 : [DANA] [WRITES] pairprogramming\n",
      "5 : [DANA] [WRITES] remotely\n",
      "6 : [DANA] [WRITES] pretty cool\n",
      "7 : [DANA] [WRITES] https : //codepad.remoteinterview.io/ # ? roomid=v07jz4qvg8\n",
      "8 : [ALEX] [WRITES] yes indeed , also a good way to learn\n",
      "9 : [CAM] [WRITES] \\o/\n",
      "10 : [CAM] [WRITES] nice to see you actually have a real meeting for a change\n",
      "11 : [BENNY] [WRITES] hehe\n",
      "12 : [CAM] [WRITES] need to go sleep actually\n",
      "13 : [BENNY] [WRITES] lol\n",
      "14 : [ALEX] [WRITES] might be a good idea\n",
      "15 : [BENNY] [WRITES] sleep tight\n",
      "[/CONVERSATION]\n",
      "\n",
      "[INTERACTION]\n",
      "1 : [BENNY] to [OTHER]\n",
      "2 : [BENNY] to [OTHER]\n",
      "3 : [ALEX] to [BENNY]\n",
      "4 : [DANA] to [ALEX]\n",
      "5 : [DANA] to [ALEX]\n",
      "6 : [DANA] to [ALEX]\n",
      "7 : [DANA] to [ALEX]\n",
      "8 : [ALEX] to [DANA]\n",
      "9 : [CAM] to [BENNY]\n",
      "10 : [CAM] to [ALEX]\n",
      "11 : [BENNY] to [CAM]\n",
      "12 : [CAM] to [BENNY]\n",
      "13 : [BENNY] to [CAM]\n",
      "14 : [ALEX] to [BENNY]\n",
      "15 : [BENNY] to [ALEX]\n",
      "[/INTERACTION]\n",
      "\n",
      "Summarize [ALEX].\n",
      "\n",
      "[/INST]\n"
     ]
    }
   ],
   "source": [
    "summary_prompts = []\n",
    "user_tag = [\"[ALEX]\", \"[BENNY]\", \"[CAM]\", \"[DANA]\", \"[OTHER]\"]\n",
    "\n",
    "for b_c, s_c in zip(basic_conv, struct_conv):\n",
    "\n",
    "    item = dict()\n",
    "    item['conversation'] = b_c\n",
    "    item['interaction'] = s_c\n",
    "    item['summary'] = \"\"\n",
    "    item['description'] = \"\"\n",
    "\n",
    "    summary_prompts.append(prompt_generator.summarization(item=item)[0])\n",
    "\n",
    "print(summary_prompts[1])\n",
    "\n",
    "with open('prompt/summary_prompts.pkl', 'wb') as f:\n",
    "    pickle.dump(summary_prompts, f)"
   ],
   "metadata": {
    "collapsed": false,
    "ExecuteTime": {
     "end_time": "2024-04-26T07:43:47.655841Z",
     "start_time": "2024-04-26T07:43:47.555233Z"
    }
   },
   "id": "cf4e75b157903a65"
  },
  {
   "cell_type": "markdown",
   "source": [
    "# USER DESCRIPTION"
   ],
   "metadata": {
    "collapsed": false
   },
   "id": "757a380379ad786e"
  },
  {
   "cell_type": "code",
   "execution_count": 11,
   "outputs": [
    {
     "name": "stdout",
     "output_type": "stream",
     "text": [
      "<s>[INST]<<SYS>>\n",
      "\n",
      "You are a system working on conversations. \n",
      "\n",
      "A conversation is a sequence of messages exchanged among two or more users. \n",
      "Each message is a string of text.\n",
      "Each message is associated with a speaker and an addressee.\n",
      "Each message has an integer index according to the order of the messages in the conversation.\n",
      "The speaker is the user who wrote the message.\n",
      "The addressee is the user to whom the message is directed.\n",
      "Each user can be the speaker of multiple messages and the addressee of multiple messages.\n",
      "\n",
      " You are given in input the following information about a conversation, listed in the following bullet point list.\n",
      "\n",
      " * The transcript of the messages of the conversation, reporting the index, the user id of the speaker and the text of each message in chronological order.\n",
      "\n",
      " * The transcript of the interactions of the conversation, reporting the index, the user id of the speaker and the user id of the addressee of each message in chronological order.\n",
      "\n",
      "Based on the information provided and the user id of the speaker of the next message, you have to write the description of the behavior of the speaker of the next message.\n",
      "You have to do it by identifying five main adjectives and for each adjective write an explanation, focusing also on how the speaker of the next message interacts with the other users. \n",
      "Use bullet points.\n",
      "The speaker of the next message will write the next message and select the addressee of the next message based on your description.\n",
      "\n",
      "The user ids of the user involved in the conversation are [ALEX], [BENNY], [CAM] and [DANA]. The user ids are used to identify the speakers and the addressees in the conversation.\n",
      "The same user id in the conversation refers to the same user, independently of the position in the conversation and on being speaker or addressee.\n",
      "Each speaker can address to one of the users or to [OTHER].\n",
      "[OTHER] means they are addressing to a speaker not in the conversation.\n",
      "\n",
      "The transcript of the messages of the conversation is reported between the tags [CONVERSATION] and [/CONVERSATION]. The format used for each message is:\n",
      "    \n",
      "<N_TURN> : <SPEAKER_ID> [WRITES] <TEXT>\n",
      "    \n",
      "where the index of the message is reported by tag <N_TURN>, the user id of the speaker of the message is reported by the tag <SPEAKER_ID>, and the text of the message written by the speaker is reported by the tag <TEXT>.\n",
      "\n",
      "The transcript of the interactions of the conversation is reported between the tags [INTERACTION] and [/INTERACTION]. The format used for each message is:\n",
      "    \n",
      "<N_TURN> : <SPEAKER_ID> to <ADDRESSEE_ID>\n",
      "  \n",
      "where the index of the message is reported by the tag <N_TURN>, the user id of the speaker of the message is reported by the tag <SPEAKER_ID> and the user id of addressee of the message is reported by the tag <ADDRESSEE_ID>.\n",
      "\n",
      "You will be given the instruction\n",
      "    \n",
      "Describe <NEXT_SPEAKER_ID>.\n",
      "    \n",
      "Where <NEXT_SPEAKER_ID> is the user id of the speaker of the next message.\n",
      "<NEXT_SPEAKER_ID> is among the <SPEAKER_ID> appeared in the conversation.\n",
      "    \n",
      "You will output the description for the speaker of the next message with id <NEXT_SPEAKER_ID>, without any formality at the beginning.\n",
      "\n",
      "Your answer format must be as follows:\n",
      "    [DESCRIPTION]:\n",
      "       * ADJECTIVE: <ADJECTIVE1>  \n",
      "            + EXPLANATION: <EXPLANATION1>\n",
      "        * ADJECTIVE: <ADJECTIVE2> \n",
      "            + EXPLANATION: <EXPLANATION2>\n",
      "        * ADJECTIVE: <ADJECTIVE3> \n",
      "            + EXPLANATION: <EXPLANATION3>\n",
      "        * ADJECTIVE: <ADJECTIVE4> \n",
      "            + EXPLANATION: <EXPLANATION4>\n",
      "        * ADJECTIVE: <ADJECTIVE5> \n",
      "            + EXPLANATION: <EXPLANATION5>\n",
      "\n",
      "<</SYS>>\n",
      "\n",
      "[CONVERSATION]\n",
      "1 : [BENNY] [WRITES] they even interview live\n",
      "2 : [BENNY] [WRITES] cc okes i think\n",
      "3 : [ALEX] [WRITES] gremble what is that ?\n",
      "4 : [DANA] [WRITES] pairprogramming\n",
      "5 : [DANA] [WRITES] remotely\n",
      "6 : [DANA] [WRITES] pretty cool\n",
      "7 : [DANA] [WRITES] https : //codepad.remoteinterview.io/ # ? roomid=v07jz4qvg8\n",
      "8 : [ALEX] [WRITES] yes indeed , also a good way to learn\n",
      "9 : [CAM] [WRITES] \\o/\n",
      "10 : [CAM] [WRITES] nice to see you actually have a real meeting for a change\n",
      "11 : [BENNY] [WRITES] hehe\n",
      "12 : [CAM] [WRITES] need to go sleep actually\n",
      "13 : [BENNY] [WRITES] lol\n",
      "14 : [ALEX] [WRITES] might be a good idea\n",
      "15 : [BENNY] [WRITES] sleep tight\n",
      "[/CONVERSATION]\n",
      "\n",
      "[INTERACTION]\n",
      "1 : [BENNY] to [OTHER]\n",
      "2 : [BENNY] to [OTHER]\n",
      "3 : [ALEX] to [BENNY]\n",
      "4 : [DANA] to [ALEX]\n",
      "5 : [DANA] to [ALEX]\n",
      "6 : [DANA] to [ALEX]\n",
      "7 : [DANA] to [ALEX]\n",
      "8 : [ALEX] to [DANA]\n",
      "9 : [CAM] to [BENNY]\n",
      "10 : [CAM] to [ALEX]\n",
      "11 : [BENNY] to [CAM]\n",
      "12 : [CAM] to [BENNY]\n",
      "13 : [BENNY] to [CAM]\n",
      "14 : [ALEX] to [BENNY]\n",
      "15 : [BENNY] to [ALEX]\n",
      "[/INTERACTION]\n",
      "\n",
      "Describe [ALEX].\n",
      "\n",
      "[/INST]\n"
     ]
    }
   ],
   "source": [
    "description_prompts = []\n",
    "user_tag = [\"[ALEX]\", \"[BENNY]\", \"[CAM]\", \"[DANA]\", \"[OTHER]\"]\n",
    "\n",
    "for b_c, s_c in zip(basic_conv, struct_conv):\n",
    "\n",
    "    item = dict()\n",
    "    item['conversation'] = b_c\n",
    "    item['interaction'] = s_c\n",
    "    item['summary'] = \"\"\n",
    "    item['description'] = \"\"\n",
    "\n",
    "    description_prompts.append(prompt_generator.describe_next_speaker(item=item)[0])\n",
    "\n",
    "print(description_prompts[1])\n",
    "\n",
    "with open('prompt/description_prompts.pkl', 'wb') as f:\n",
    "    pickle.dump(description_prompts, f)"
   ],
   "metadata": {
    "collapsed": false,
    "ExecuteTime": {
     "end_time": "2024-04-26T07:43:49.225858Z",
     "start_time": "2024-04-26T07:43:49.187360Z"
    }
   },
   "id": "82d52290f4c2acee"
  },
  {
   "cell_type": "markdown",
   "source": [
    "# RESPONSE_SELECTION"
   ],
   "metadata": {
    "collapsed": false
   },
   "id": "bafa4b025f5d178e"
  },
  {
   "cell_type": "markdown",
   "source": [
    "CONV ONLY"
   ],
   "metadata": {
    "collapsed": false
   },
   "id": "6d3192df6f8ac86b"
  },
  {
   "cell_type": "code",
   "execution_count": 12,
   "outputs": [],
   "source": [
    "rs_conv_prompts = []\n",
    "rs_conv_struct_prompts = []\n",
    "rs_struct_summ_prompts = []\n",
    "rs_struct_desc_prompts = []\n",
    "rs_struct_summ_desc_prompts = []\n",
    "\n",
    "user_tag = [\"[ALEX]\", \"[BENNY]\", \"[CAM]\", \"[DANA]\", \"[OTHER]\"]\n",
    "\n",
    "for b_c, s_c, summ, desc in zip(basic_conv, struct_conv, summary, description):\n",
    "    \n",
    "    item = dict()\n",
    "    item['conversation'] = b_c\n",
    "    item['interaction'] = s_c\n",
    "    item['summary'] = summ\n",
    "    item['description'] = desc\n",
    "\n",
    "\n",
    "    rs_conv_prompts.append(prompt_generator.response_selection(conversation=True, item=item)[0])\n",
    "\n",
    "    rs_conv_struct_prompts.append(prompt_generator.response_selection(conversation=True, interaction=True, item=item)[0])\n",
    "    rs_struct_summ_prompts.append(prompt_generator.response_selection(interaction=True, summary=True, item=item)[0])\n",
    "\n",
    "    rs_struct_desc_prompts.append(prompt_generator.response_selection(interaction=True, description=True, item=item)[0])\n",
    "    rs_struct_summ_desc_prompts.append(prompt_generator.response_selection(interaction=True, summary=True, description=True, item=item)[0])\n",
    "\n",
    "\n",
    "with open('prompt/rs_conv_prompts.pkl', 'wb') as f:\n",
    "    pickle.dump(rs_conv_prompts, f)\n",
    "    \n",
    "with open('prompt/rs_conv_struct_prompts.pkl', 'wb') as f:\n",
    "    pickle.dump(rs_conv_struct_prompts, f)\n",
    "    \n",
    "with open('prompt/rs_struct_summ_prompts.pkl', 'wb') as f:\n",
    "    pickle.dump(rs_struct_summ_prompts, f)\n",
    "\n",
    "with open('prompt/rs_struct_desc_prompts.pkl', 'wb') as f:\n",
    "    pickle.dump(rs_struct_desc_prompts, f)\n",
    "\n",
    "with open('prompt/rs_struct_summ_desc_prompts.pkl', 'wb') as f:\n",
    "    pickle.dump(rs_struct_summ_desc_prompts, f)"
   ],
   "metadata": {
    "collapsed": false,
    "ExecuteTime": {
     "end_time": "2024-04-26T07:43:52.398460Z",
     "start_time": "2024-04-26T07:43:52.322785Z"
    }
   },
   "id": "992ae5e95c00874f"
  },
  {
   "cell_type": "markdown",
   "source": [
    "# ADDRESSEE RECOGNITION\n"
   ],
   "metadata": {
    "collapsed": false
   },
   "id": "ae9e5279903a1e13"
  },
  {
   "cell_type": "markdown",
   "source": [
    "CONV ONLY"
   ],
   "metadata": {
    "collapsed": false
   },
   "id": "35347094891e8736"
  },
  {
   "cell_type": "code",
   "execution_count": 9,
   "outputs": [],
   "source": [
    "ar_conv_prompts = []\n",
    "ar_conv_struct_prompts = []\n",
    "ar_struct_summ_prompts = []\n",
    "ar_struct_desc_prompts = []\n",
    "ar_struct_summ_desc_prompts = []\n",
    "\n",
    "ar_struct = []\n",
    "\n",
    "user_tag = [\"[ALEX]\", \"[BENNY]\", \"[CAM]\", \"[DANA]\", \"[OTHER]\"]\n",
    "\n",
    "for b_c, s_c, summ, desc in zip(basic_conv, struct_conv, summary, description):\n",
    "\n",
    "    item = dict()\n",
    "    item['conversation'] = b_c\n",
    "    item['interaction'] = s_c\n",
    "    item['summary'] = summ\n",
    "    item['description'] = desc\n",
    "\n",
    "    ar_conv_prompts.append(prompt_generator.addressee_recognition(conversation=True, item=item)[0])\n",
    "    ar_conv_struct_prompts.append(prompt_generator.addressee_recognition(conversation=True, interaction=True, item=item)[0])\n",
    "    ar_struct_summ_prompts.append(prompt_generator.addressee_recognition(summary=True, interaction=True, item=item)[0])\n",
    "    ar_struct_desc_prompts.append(prompt_generator.addressee_recognition(interaction=True, description=True, item=item)[0])\n",
    "    ar_struct_summ_desc_prompts.append(prompt_generator.addressee_recognition(summary=True, interaction=True, description=True, item=item)[0])\n",
    "    ar_struct.append(prompt_generator.addressee_recognition(interaction=True, item=item)[0])\n",
    "\n",
    "\n",
    "with open('prompt/ar_conv_prompts.pkl', 'wb') as f:\n",
    "    pickle.dump(ar_conv_prompts, f)\n",
    "\n",
    "with open('prompt/ar_conv_struct_prompts.pkl', 'wb') as f:\n",
    "    pickle.dump(ar_conv_struct_prompts, f)\n",
    "\n",
    "with open('prompt/ar_struct_summ_prompts.pkl', 'wb') as f:\n",
    "    pickle.dump(ar_struct_summ_prompts, f)\n",
    "\n",
    "with open('prompt/ar_struct_desc_prompts.pkl', 'wb') as f:\n",
    "    pickle.dump(ar_struct_desc_prompts, f)\n",
    "\n",
    "with open('prompt/ar_struct_summ_desc_prompts.pkl', 'wb') as f:\n",
    "    pickle.dump(ar_struct_summ_desc_prompts, f)\n",
    "\n",
    "with open('prompt/ar_struct_prompts.pkl', 'wb') as f:\n",
    "    pickle.dump(ar_struct, f)"
   ],
   "metadata": {
    "collapsed": false,
    "ExecuteTime": {
     "end_time": "2024-05-16T12:33:22.243001Z",
     "start_time": "2024-05-16T12:33:22.211807Z"
    }
   },
   "id": "af1e94fe908b86a4"
  }
 ],
 "metadata": {
  "kernelspec": {
   "display_name": "Python 3",
   "language": "python",
   "name": "python3"
  },
  "language_info": {
   "codemirror_mode": {
    "name": "ipython",
    "version": 2
   },
   "file_extension": ".py",
   "mimetype": "text/x-python",
   "name": "python",
   "nbconvert_exporter": "python",
   "pygments_lexer": "ipython2",
   "version": "2.7.6"
  }
 },
 "nbformat": 4,
 "nbformat_minor": 5
}
