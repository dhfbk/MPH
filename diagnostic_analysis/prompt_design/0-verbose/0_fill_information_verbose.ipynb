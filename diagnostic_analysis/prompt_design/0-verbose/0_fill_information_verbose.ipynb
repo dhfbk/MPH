{
 "cells": [
  {
   "cell_type": "markdown",
   "id": "c27e30bd33d2240",
   "metadata": {
    "collapsed": false
   },
   "source": [
    "# *DON'T TOUCH! FIELDS TO FILL*"
   ]
  },
  {
   "cell_type": "code",
   "execution_count": 1,
   "id": "946a6765e34202d3",
   "metadata": {
    "collapsed": false,
    "ExecuteTime": {
     "end_time": "2024-04-24T13:11:43.370673Z",
     "start_time": "2024-04-24T13:11:41.523002Z"
    }
   },
   "outputs": [],
   "source": [
    "%reset"
   ]
  },
  {
   "cell_type": "code",
   "execution_count": 2,
   "id": "9b418cf332d9cfc7",
   "metadata": {
    "collapsed": false,
    "ExecuteTime": {
     "end_time": "2024-04-24T13:11:43.942337Z",
     "start_time": "2024-04-24T13:11:43.907592Z"
    }
   },
   "outputs": [],
   "source": [
    "input_elements = {\n",
    "    'general_statement':\"\",\n",
    "    'conversation':\"\",\n",
    "    'interaction': \"\",\n",
    "    'summary':\"\",\n",
    "    'description':\"\"\n",
    "}\n",
    "\n",
    "task_definition = {\n",
    "    'response_selection':\"\",\n",
    "    'addressee_recognition':\"\",\n",
    "    'summarization':\"\",\n",
    "    'describe_next_speaker':\"\"\n",
    "}\n",
    "\n",
    "input_format = {\n",
    "    'conversation':\"\",\n",
    "    'interaction' : \"\",\n",
    "    'summary':\"\",\n",
    "    'description':\"\"\n",
    "}\n",
    "\n",
    "instruction = {\n",
    "    'response_selection':\"\",\n",
    "    'addressee_recognition':\"\",\n",
    "    'summarization':\"\",\n",
    "    'describe_next_speaker':\"\"\n",
    "}\n",
    "\n",
    "output_format = {\n",
    "    'response_selection':\"\",\n",
    "    'addressee_recognition':\"\",\n",
    "    'summarization':\"\",\n",
    "    'describe_next_speaker':\"\"\n",
    "}\n",
    "\n",
    "command = {\n",
    "    'response_selection':\"\",\n",
    "    'addressee_recognition':\"\",\n",
    "    'summarization':\"\",\n",
    "    'describe_next_speaker':\"\"\n",
    "}\n",
    "\n",
    "output_template = {\n",
    "    'response_selection':\"\",\n",
    "    'addressee_recognition':\"\",\n",
    "    'summarization':\"\",\n",
    "    'describe_next_speaker':\"\"\n",
    "}"
   ]
  },
  {
   "cell_type": "markdown",
   "id": "4df8a0518437eac6",
   "metadata": {
    "collapsed": false
   },
   "source": [
    "# SCENARIO DESCRIPTION\n",
    "Here you have to describe the scenario in which the LLM will work "
   ]
  },
  {
   "cell_type": "markdown",
   "id": "144cd8d8fa45a602",
   "metadata": {
    "collapsed": false
   },
   "source": [
    "KEYWORDS: conversation, message, text, exchange, speaker, addressee"
   ]
  },
  {
   "cell_type": "code",
   "execution_count": 3,
   "id": "3d242879d37ab9a9",
   "metadata": {
    "collapsed": false,
    "ExecuteTime": {
     "end_time": "2024-04-24T13:11:44.657391Z",
     "start_time": "2024-04-24T13:11:44.639749Z"
    }
   },
   "outputs": [
    {
     "name": "stdout",
     "output_type": "stream",
     "text": [
      "You are a system working on conversations. \n",
      "\n",
      "A conversation is a sequence of messages exchanged among two or more users. \n",
      "Each message is a string of text.\n",
      "Each message is associated with a speaker and an addressee.\n",
      "Each message has an integer index according to the order of the messages in the conversation.\n",
      "The speaker is the user who wrote the message.\n",
      "The addressee is the user to whom the message is directed.\n",
      "Each user can be the speaker of multiple messages and the addressee of multiple messages.\n"
     ]
    }
   ],
   "source": [
    "scenario_description = (\n",
    "\"\"\"You are a system working on conversations. \n",
    "\n",
    "A conversation is a sequence of messages exchanged among two or more users. \n",
    "Each message is a string of text.\n",
    "Each message is associated with a speaker and an addressee.\n",
    "Each message has an integer index according to the order of the messages in the conversation.\n",
    "The speaker is the user who wrote the message.\n",
    "The addressee is the user to whom the message is directed.\n",
    "Each user can be the speaker of multiple messages and the addressee of multiple messages.\"\"\"\n",
    ")\n",
    "print(scenario_description)"
   ]
  },
  {
   "cell_type": "markdown",
   "id": "95b5d012223fd07b",
   "metadata": {
    "collapsed": false
   },
   "source": [
    "# INPUT\n"
   ]
  },
  {
   "cell_type": "code",
   "execution_count": 4,
   "id": "ce22a34d0b72c111",
   "metadata": {
    "collapsed": false,
    "ExecuteTime": {
     "end_time": "2024-04-24T13:11:44.932096Z",
     "start_time": "2024-04-24T13:11:44.917812Z"
    }
   },
   "outputs": [
    {
     "name": "stdout",
     "output_type": "stream",
     "text": [
      " You are given in input the following information about a conversation, listed in the following bullet point list.\n"
     ]
    }
   ],
   "source": [
    "input_elements['general_statement'] = (\n",
    "\"\"\" You are given in input the following information about a conversation, listed in the following bullet point list.\"\"\"\n",
    ")\n",
    "print(input_elements['general_statement'])"
   ]
  },
  {
   "cell_type": "markdown",
   "id": "95c529ca87772ea1",
   "metadata": {
    "collapsed": false
   },
   "source": [
    "# CONVERSATION"
   ]
  },
  {
   "cell_type": "code",
   "execution_count": 5,
   "id": "f09d9882799d99ae",
   "metadata": {
    "collapsed": false,
    "ExecuteTime": {
     "end_time": "2024-04-24T13:11:45.216102Z",
     "start_time": "2024-04-24T13:11:45.199102Z"
    }
   },
   "outputs": [
    {
     "name": "stdout",
     "output_type": "stream",
     "text": [
      " * The transcript of the messages of the conversation, reporting the index, the user id of the speaker and the text of each message in chronological order.\n"
     ]
    }
   ],
   "source": [
    "input_elements['conversation'] = (\n",
    "\"\"\" * The transcript of the messages of the conversation, reporting the index, the user id of the speaker and the text of each message in chronological order.\"\"\"\n",
    ")\n",
    "print(input_elements['conversation'])"
   ]
  },
  {
   "cell_type": "code",
   "execution_count": 6,
   "id": "ddaec0df9029cc35",
   "metadata": {
    "collapsed": false,
    "ExecuteTime": {
     "end_time": "2024-04-24T13:11:45.366125Z",
     "start_time": "2024-04-24T13:11:45.350856Z"
    }
   },
   "outputs": [
    {
     "name": "stdout",
     "output_type": "stream",
     "text": [
      "The transcript of the messages of the conversation is reported between the tags [CONVERSATION] and [/CONVERSATION]. The format used for each message is:\n",
      "    \n",
      "<N_TURN> : <SPEAKER_ID> [WRITES] <TEXT>\n",
      "    \n",
      "where the index of the message is reported by tag <N_TURN>, the user id of the speaker of the message is reported by the tag <SPEAKER_ID>, and the text of the message written by the speaker is reported by the tag <TEXT>.\n"
     ]
    }
   ],
   "source": [
    "input_format['conversation'] = (\n",
    "\"\"\"The transcript of the messages of the conversation is reported between the tags [CONVERSATION] and [/CONVERSATION]. The format used for each message is:\n",
    "    \n",
    "<N_TURN> : <SPEAKER_ID> [WRITES] <TEXT>\n",
    "    \n",
    "where the index of the message is reported by tag <N_TURN>, the user id of the speaker of the message is reported by the tag <SPEAKER_ID>, and the text of the message written by the speaker is reported by the tag <TEXT>.\"\"\"\n",
    ")\n",
    "print(input_format['conversation'])"
   ]
  },
  {
   "cell_type": "markdown",
   "id": "9c8e289436c3f209",
   "metadata": {
    "collapsed": false
   },
   "source": [
    "# INTERACTION"
   ]
  },
  {
   "cell_type": "code",
   "execution_count": 7,
   "id": "b49592bbae35fe40",
   "metadata": {
    "collapsed": false,
    "ExecuteTime": {
     "end_time": "2024-04-24T13:11:45.611965Z",
     "start_time": "2024-04-24T13:11:45.597455Z"
    }
   },
   "outputs": [
    {
     "name": "stdout",
     "output_type": "stream",
     "text": [
      " * The transcript of the interactions of the conversation, reporting the index, the user id of the speaker and the user id of the addressee of each message in chronological order.\n"
     ]
    }
   ],
   "source": [
    "input_elements['interaction'] = (\n",
    "\"\"\" * The transcript of the interactions of the conversation, reporting the index, the user id of the speaker and the user id of the addressee of each message in chronological order.\"\"\"\n",
    ")\n",
    "\n",
    "print(input_elements['interaction'])"
   ]
  },
  {
   "cell_type": "code",
   "execution_count": 8,
   "id": "d49aa26cd04b908a",
   "metadata": {
    "collapsed": false,
    "ExecuteTime": {
     "end_time": "2024-04-24T13:11:45.765965Z",
     "start_time": "2024-04-24T13:11:45.748397Z"
    }
   },
   "outputs": [
    {
     "name": "stdout",
     "output_type": "stream",
     "text": [
      "The transcript of the interactions of the conversation is reported between the tags [INTERACTION] and [/INTERACTION]. The format used for each message is:\n",
      "    \n",
      "<N_TURN> : <SPEAKER_ID> to <ADDRESSEE_ID>\n",
      "  \n",
      "where the index of the message is reported by the tag <N_TURN>, the user id of the speaker of the message is reported by the tag <SPEAKER_ID> and the user id of addressee of the message is reported by the tag <ADDRESSEE_ID>.\n"
     ]
    }
   ],
   "source": [
    "input_format['interaction'] = (\n",
    "\"\"\"The transcript of the interactions of the conversation is reported between the tags [INTERACTION] and [/INTERACTION]. The format used for each message is:\n",
    "    \n",
    "<N_TURN> : <SPEAKER_ID> to <ADDRESSEE_ID>\n",
    "  \n",
    "where the index of the message is reported by the tag <N_TURN>, the user id of the speaker of the message is reported by the tag <SPEAKER_ID> and the user id of addressee of the message is reported by the tag <ADDRESSEE_ID>.\"\"\"\n",
    ")\n",
    "\n",
    "print(input_format['interaction'])"
   ]
  },
  {
   "cell_type": "markdown",
   "id": "d7009637075d6971",
   "metadata": {
    "collapsed": false
   },
   "source": [
    "# SUMMARY"
   ]
  },
  {
   "cell_type": "code",
   "execution_count": 9,
   "id": "b906b631c73e7ac1",
   "metadata": {
    "collapsed": false,
    "ExecuteTime": {
     "end_time": "2024-04-24T13:11:46.023133Z",
     "start_time": "2024-04-24T13:11:46.004693Z"
    }
   },
   "outputs": [
    {
     "name": "stdout",
     "output_type": "stream",
     "text": [
      " * The summary of the conversation from the perspective of the speaker of the next message.\n"
     ]
    }
   ],
   "source": [
    "input_elements['summary'] = (\n",
    "\"\"\" * The summary of the conversation from the perspective of the speaker of the next message.\"\"\"\n",
    ")\n",
    "print(input_elements['summary'])"
   ]
  },
  {
   "cell_type": "code",
   "execution_count": 10,
   "id": "38589f185609838d",
   "metadata": {
    "collapsed": false,
    "ExecuteTime": {
     "end_time": "2024-04-24T13:11:46.174167Z",
     "start_time": "2024-04-24T13:11:46.158699Z"
    }
   },
   "outputs": [
    {
     "name": "stdout",
     "output_type": "stream",
     "text": [
      "The summary of the conversation is reported between the tags [SUMMARY] and [/SUMMARY].\n"
     ]
    }
   ],
   "source": [
    "input_format['summary'] = (\n",
    "    \"\"\"The summary of the conversation is reported between the tags [SUMMARY] and [/SUMMARY].\"\"\"\n",
    ")\n",
    "print(input_format['summary'])"
   ]
  },
  {
   "cell_type": "markdown",
   "id": "e25cf65e7775e25b",
   "metadata": {
    "collapsed": false
   },
   "source": []
  },
  {
   "cell_type": "markdown",
   "id": "7b2ef792c7c922d6",
   "metadata": {
    "collapsed": false
   },
   "source": [
    "# DESCRIPTION"
   ]
  },
  {
   "cell_type": "code",
   "execution_count": 11,
   "id": "e3ce4b39f0a3fc48",
   "metadata": {
    "collapsed": false,
    "ExecuteTime": {
     "end_time": "2024-04-24T13:11:46.581766Z",
     "start_time": "2024-04-24T13:11:46.562342Z"
    }
   },
   "outputs": [
    {
     "name": "stdout",
     "output_type": "stream",
     "text": [
      " * The description of the speaker of the next message in the current conversation.\n"
     ]
    }
   ],
   "source": [
    "input_elements['description'] = (\n",
    "\"\"\" * The description of the speaker of the next message in the current conversation.\"\"\"\n",
    ")\n",
    "print(input_elements['description'])"
   ]
  },
  {
   "cell_type": "code",
   "execution_count": 12,
   "id": "a02b887bb481d2b0",
   "metadata": {
    "collapsed": false,
    "ExecuteTime": {
     "end_time": "2024-04-24T13:11:46.736048Z",
     "start_time": "2024-04-24T13:11:46.719234Z"
    }
   },
   "outputs": [
    {
     "name": "stdout",
     "output_type": "stream",
     "text": [
      "The description of the speaker of the next message is reported between the tags [DESCRIPTION] and [/DESCRIPTION].\n"
     ]
    }
   ],
   "source": [
    "input_format['description'] = (\n",
    "\"\"\"The description of the speaker of the next message is reported between the tags [DESCRIPTION] and [/DESCRIPTION].\"\"\"\n",
    ")\n",
    "print(input_format['description'])"
   ]
  },
  {
   "cell_type": "markdown",
   "id": "7da93ef2e4222d5c",
   "metadata": {
    "collapsed": false
   },
   "source": [
    "# USER SPACE DESCRIPTION"
   ]
  },
  {
   "cell_type": "code",
   "execution_count": 13,
   "id": "8a486a2ed2a8f4b7",
   "metadata": {
    "collapsed": false,
    "ExecuteTime": {
     "end_time": "2024-04-24T13:11:47.035858Z",
     "start_time": "2024-04-24T13:11:47.019641Z"
    }
   },
   "outputs": [
    {
     "name": "stdout",
     "output_type": "stream",
     "text": [
      "The user ids of the user involved in the conversation are [ALEX], [BENNY], [CAM] and [DANA]. The user ids are used to identify the speakers and the addressees in the conversation.\n",
      "The same user id in the conversation refers to the same user, independently of the position in the conversation and on being speaker or addressee.\n",
      "Each speaker can address to one of the users or to [OTHER].\n",
      "[OTHER] means they are addressing to a speaker not in the conversation.\n"
     ]
    }
   ],
   "source": [
    "user_space_description = (\n",
    "\"\"\"The user ids of the user involved in the conversation are [ALEX], [BENNY], [CAM] and [DANA]. The user ids are used to identify the speakers and the addressees in the conversation.\n",
    "The same user id in the conversation refers to the same user, independently of the position in the conversation and on being speaker or addressee.\n",
    "Each speaker can address to one of the users or to [OTHER].\n",
    "[OTHER] means they are addressing to a speaker not in the conversation.\"\"\"\n",
    ")\n",
    "print(user_space_description)"
   ]
  },
  {
   "cell_type": "markdown",
   "id": "1592221631550fd7",
   "metadata": {
    "collapsed": false
   },
   "source": [
    "# RESPONSE SELECTION"
   ]
  },
  {
   "cell_type": "code",
   "execution_count": 14,
   "id": "7e30dabe480b8b0e",
   "metadata": {
    "collapsed": false,
    "ExecuteTime": {
     "end_time": "2024-04-24T13:11:47.342768Z",
     "start_time": "2024-04-24T13:11:47.326204Z"
    }
   },
   "outputs": [
    {
     "name": "stdout",
     "output_type": "stream",
     "text": [
      "Based on the information provided and the user id of the speaker of the next message, you have to write the next message in the conversation.\n"
     ]
    }
   ],
   "source": [
    "task_definition['response_selection'] = (\n",
    "\"\"\"Based on the information provided and the user id of the speaker of the next message, you have to write the next message in the conversation.\"\"\"\n",
    ")\n",
    "print(task_definition['response_selection'])"
   ]
  },
  {
   "cell_type": "code",
   "execution_count": 15,
   "id": "cda6a78a08b9c695",
   "metadata": {
    "collapsed": false,
    "ExecuteTime": {
     "end_time": "2024-04-24T13:11:47.499466Z",
     "start_time": "2024-04-24T13:11:47.484219Z"
    }
   },
   "outputs": [
    {
     "name": "stdout",
     "output_type": "stream",
     "text": [
      "You will be given the instruction\n",
      "    \n",
      "Write the next message from <NEXT_SPEAKER_ID>.\n",
      "    \n",
      "Where <NEXT_SPEAKER_ID> is the user id of the speaker of the next message. \n",
      "You will output the next message in the conversation written by <NEXT_SPEAKER_ID>, without any formality at the beginning.\n"
     ]
    }
   ],
   "source": [
    "instruction['response_selection'] = (\n",
    "\"\"\"You will be given the instruction\n",
    "    \n",
    "Write the next message from <NEXT_SPEAKER_ID>.\n",
    "    \n",
    "Where <NEXT_SPEAKER_ID> is the user id of the speaker of the next message. \n",
    "You will output the next message in the conversation written by <NEXT_SPEAKER_ID>, without any formality at the beginning.\"\"\"\n",
    ")\n",
    "print(instruction['response_selection'])"
   ]
  },
  {
   "cell_type": "code",
   "execution_count": 16,
   "id": "18f47e8bed7e37f0",
   "metadata": {
    "collapsed": false,
    "ExecuteTime": {
     "end_time": "2024-04-24T13:11:47.653696Z",
     "start_time": "2024-04-24T13:11:47.638213Z"
    }
   },
   "outputs": [
    {
     "name": "stdout",
     "output_type": "stream",
     "text": [
      "Your answer format must be as follows:\n",
      "[ANSWER]: <NEXT_SPEAKER_ID> [WRITES] <NEXT_TEXT>\n",
      "\n",
      "Where <NEXT_TEXT> is the text of the next message in the conversation written by <NEXT_SPEAKER_ID>.\n"
     ]
    }
   ],
   "source": [
    "output_format['response_selection'] = (\n",
    "\"\"\"Your answer format must be as follows:\n",
    "[ANSWER]: <NEXT_SPEAKER_ID> [WRITES] <NEXT_TEXT>\n",
    "\n",
    "Where <NEXT_TEXT> is the text of the next message in the conversation written by <NEXT_SPEAKER_ID>.\"\"\"\n",
    ")\n",
    "print(output_format['response_selection'])"
   ]
  },
  {
   "cell_type": "code",
   "execution_count": 17,
   "id": "8bb2b719703bec90",
   "metadata": {
    "collapsed": false,
    "ExecuteTime": {
     "end_time": "2024-04-24T13:11:47.798379Z",
     "start_time": "2024-04-24T13:11:47.783659Z"
    }
   },
   "outputs": [
    {
     "name": "stdout",
     "output_type": "stream",
     "text": [
      "Write the next message from [ALEX].\n"
     ]
    }
   ],
   "source": [
    "command['response_selection'] = (\n",
    "\"\"\"Write the next message from [ALEX].\"\"\"\n",
    ")\n",
    "\n",
    "print(command['response_selection'])"
   ]
  },
  {
   "cell_type": "code",
   "execution_count": 18,
   "id": "e111ae8ac4cee642",
   "metadata": {
    "collapsed": false,
    "ExecuteTime": {
     "end_time": "2024-04-24T13:11:47.955801Z",
     "start_time": "2024-04-24T13:11:47.941098Z"
    }
   },
   "outputs": [
    {
     "name": "stdout",
     "output_type": "stream",
     "text": [
      "[ANSWER]: [ALEX] [WRITES] \n"
     ]
    }
   ],
   "source": [
    "output_template['response_selection'] = (\n",
    "\"\"\"[ANSWER]: [ALEX] [WRITES] \"\"\"\n",
    ")\n",
    "\n",
    "print(output_template['response_selection'])"
   ]
  },
  {
   "cell_type": "markdown",
   "id": "4bafcd0611dd71e",
   "metadata": {
    "collapsed": false
   },
   "source": [
    "# ADDRESSEE RECOGNITION"
   ]
  },
  {
   "cell_type": "code",
   "execution_count": 19,
   "id": "dca0115f89fd0946",
   "metadata": {
    "collapsed": false,
    "ExecuteTime": {
     "end_time": "2024-04-24T13:11:48.287350Z",
     "start_time": "2024-04-24T13:11:48.265939Z"
    }
   },
   "outputs": [
    {
     "name": "stdout",
     "output_type": "stream",
     "text": [
      "Based on the information provided and the user id of the speaker of the next message, you have to select the user id of the addressee of the next message.\n"
     ]
    }
   ],
   "source": [
    "task_definition['addressee_recognition'] = (\n",
    "\"\"\"Based on the information provided and the user id of the speaker of the next message, you have to select the user id of the addressee of the next message.\"\"\"\n",
    ")\n",
    "print(task_definition['addressee_recognition'])"
   ]
  },
  {
   "cell_type": "code",
   "execution_count": 20,
   "id": "6658fdb43695d8ea",
   "metadata": {
    "collapsed": false,
    "ExecuteTime": {
     "end_time": "2024-04-24T13:11:48.442464Z",
     "start_time": "2024-04-24T13:11:48.420787Z"
    }
   },
   "outputs": [
    {
     "name": "stdout",
     "output_type": "stream",
     "text": [
      "You will be given the instruction\n",
      "    \n",
      "Write the user id of the addressee of the next message from <NEXT_SPEAKER_ID>.\n",
      "    \n",
      "Where <NEXT_SPEAKER_ID> is the user id of the speaker of the next message. The possible user ids of the addressee of the next message are [ALEX], [BENNY], [CAM], [DANA] or [OTHER]. \n",
      "You will select the user id of the addressee of the next message in the conversation written by <NEXT_SPEAKER_ID>, without any formality at the beginning.\n"
     ]
    }
   ],
   "source": [
    "instruction['addressee_recognition'] = (\n",
    "\"\"\"You will be given the instruction\n",
    "    \n",
    "Write the user id of the addressee of the next message from <NEXT_SPEAKER_ID>.\n",
    "    \n",
    "Where <NEXT_SPEAKER_ID> is the user id of the speaker of the next message. The possible user ids of the addressee of the next message are [ALEX], [BENNY], [CAM], [DANA] or [OTHER]. \n",
    "You will select the user id of the addressee of the next message in the conversation written by <NEXT_SPEAKER_ID>, without any formality at the beginning.\"\"\"\n",
    ")\n",
    "print(instruction['addressee_recognition'])"
   ]
  },
  {
   "cell_type": "code",
   "execution_count": 21,
   "id": "35b879e6551eb80e",
   "metadata": {
    "collapsed": false,
    "ExecuteTime": {
     "end_time": "2024-04-24T13:11:48.609416Z",
     "start_time": "2024-04-24T13:11:48.595071Z"
    }
   },
   "outputs": [
    {
     "name": "stdout",
     "output_type": "stream",
     "text": [
      "Your answer format must be as follows:\n",
      "[ANSWER]: <NEXT_SPEAKER_ID> to <NEXT_ADDRESSEE_ID>\n",
      "\n",
      "Where <NEXT_ADDRESSEE_ID> is the user id of the addressee of the next message in the conversation written by <NEXT_SPEAKER_ID>.\n"
     ]
    }
   ],
   "source": [
    "output_format['addressee_recognition'] = (\n",
    "\"\"\"Your answer format must be as follows:\n",
    "[ANSWER]: <NEXT_SPEAKER_ID> to <NEXT_ADDRESSEE_ID>\n",
    "\n",
    "Where <NEXT_ADDRESSEE_ID> is the user id of the addressee of the next message in the conversation written by <NEXT_SPEAKER_ID>.\"\"\"\n",
    ")\n",
    "print(output_format['addressee_recognition'])"
   ]
  },
  {
   "cell_type": "code",
   "execution_count": 22,
   "id": "8b26c32f07e73e5d",
   "metadata": {
    "collapsed": false,
    "ExecuteTime": {
     "end_time": "2024-04-24T13:11:48.780324Z",
     "start_time": "2024-04-24T13:11:48.765816Z"
    }
   },
   "outputs": [
    {
     "name": "stdout",
     "output_type": "stream",
     "text": [
      "Write the user id of the addressee of the next message from [ALEX].\n"
     ]
    }
   ],
   "source": [
    "command['addressee_recognition'] = (\n",
    "\"\"\"Write the user id of the addressee of the next message from [ALEX].\"\"\"\n",
    ")\n",
    "\n",
    "print(command['addressee_recognition'])"
   ]
  },
  {
   "cell_type": "code",
   "execution_count": 23,
   "id": "97c69e46ed22abe6",
   "metadata": {
    "collapsed": false,
    "ExecuteTime": {
     "end_time": "2024-04-24T13:11:48.952128Z",
     "start_time": "2024-04-24T13:11:48.930327Z"
    }
   },
   "outputs": [
    {
     "name": "stdout",
     "output_type": "stream",
     "text": [
      "[ANSWER]: [ALEX] to \n"
     ]
    }
   ],
   "source": [
    "output_template['addressee_recognition'] = (\n",
    "\"\"\"[ANSWER]: [ALEX] to \"\"\"\n",
    ")\n",
    "\n",
    "print(output_template['addressee_recognition'])"
   ]
  },
  {
   "cell_type": "markdown",
   "id": "77aa0093953d02d7",
   "metadata": {
    "collapsed": false
   },
   "source": [
    "# SUMMARIZATION"
   ]
  },
  {
   "cell_type": "code",
   "execution_count": 24,
   "id": "d7abf720cc9e6f99",
   "metadata": {
    "collapsed": false,
    "ExecuteTime": {
     "end_time": "2024-04-24T13:11:49.276025Z",
     "start_time": "2024-04-24T13:11:49.259497Z"
    }
   },
   "outputs": [
    {
     "name": "stdout",
     "output_type": "stream",
     "text": [
      "Based on the information provided and the user id of the speaker of the next message, you have to write the summary of the conversation from the perspective of the speaker of the next message. \n",
      "You have to do it by identifying three main topics and for each topic write an explanation, focusing also on how the speaker of the next message interacts with the other users. \n",
      "Use bullet points.\n",
      "The speaker of the next message will write the next message and select the addressee of the next message based on your summary.\n"
     ]
    }
   ],
   "source": [
    "task_definition['summarization'] = (\n",
    "\"\"\"Based on the information provided and the user id of the speaker of the next message, you have to write the summary of the conversation from the perspective of the speaker of the next message. \n",
    "You have to do it by identifying three main topics and for each topic write an explanation, focusing also on how the speaker of the next message interacts with the other users. \n",
    "Use bullet points.\n",
    "The speaker of the next message will write the next message and select the addressee of the next message based on your summary.\"\"\"\n",
    ")\n",
    "print(task_definition['summarization'])"
   ]
  },
  {
   "cell_type": "code",
   "execution_count": 25,
   "id": "f434afc01a5e70f0",
   "metadata": {
    "collapsed": false,
    "ExecuteTime": {
     "end_time": "2024-04-24T13:11:49.443287Z",
     "start_time": "2024-04-24T13:11:49.431738Z"
    }
   },
   "outputs": [
    {
     "name": "stdout",
     "output_type": "stream",
     "text": [
      "You will be given the instruction\n",
      "    \n",
      "Summarize <NEXT_SPEAKER_ID>.\n",
      "    \n",
      "Where <NEXT_SPEAKER_ID> is the user id of the speaker of the next message.\n",
      "<NEXT_SPEAKER_ID> is among the <SPEAKER_ID> appeared in the conversation.\n",
      "    \n",
      "You will output the summary of the conversations from the perspective of the speaker of the next message with id <NEXT_SPEAKER_ID>, without any formality at the beginning.\n"
     ]
    }
   ],
   "source": [
    "instruction['summarization'] = (\n",
    "\"\"\"You will be given the instruction\n",
    "    \n",
    "Summarize <NEXT_SPEAKER_ID>.\n",
    "    \n",
    "Where <NEXT_SPEAKER_ID> is the user id of the speaker of the next message.\n",
    "<NEXT_SPEAKER_ID> is among the <SPEAKER_ID> appeared in the conversation.\n",
    "    \n",
    "You will output the summary of the conversations from the perspective of the speaker of the next message with id <NEXT_SPEAKER_ID>, without any formality at the beginning.\"\"\"\n",
    ")\n",
    "print(instruction['summarization'])"
   ]
  },
  {
   "cell_type": "code",
   "execution_count": 26,
   "id": "85afeac2b11f07b4",
   "metadata": {
    "collapsed": false,
    "ExecuteTime": {
     "end_time": "2024-04-24T13:11:49.619482Z",
     "start_time": "2024-04-24T13:11:49.605023Z"
    }
   },
   "outputs": [
    {
     "name": "stdout",
     "output_type": "stream",
     "text": [
      "Your answer format must be as follows:\n",
      "[SUMMARY]:\n",
      "    * TOPIC: <TOPIC1>  \n",
      "        + EXPLANATION: <EXPLANATION1>\n",
      "    * TOPIC: <TOPIC2> \n",
      "        + EXPLANATION: <EXPLANATION2>\n",
      "    * TOPIC: <TOPIC3> \n",
      "        + EXPLANATION: <EXPLANATION3>\n"
     ]
    }
   ],
   "source": [
    "output_format['summarization'] = (\n",
    "\"\"\"Your answer format must be as follows:\n",
    "[SUMMARY]:\n",
    "    * TOPIC: <TOPIC1>  \n",
    "        + EXPLANATION: <EXPLANATION1>\n",
    "    * TOPIC: <TOPIC2> \n",
    "        + EXPLANATION: <EXPLANATION2>\n",
    "    * TOPIC: <TOPIC3> \n",
    "        + EXPLANATION: <EXPLANATION3>\"\"\"\n",
    ")\n",
    "print(output_format['summarization'])"
   ]
  },
  {
   "cell_type": "code",
   "execution_count": 27,
   "id": "2b4bba91b7b0e405",
   "metadata": {
    "collapsed": false,
    "ExecuteTime": {
     "end_time": "2024-04-24T13:11:49.802304Z",
     "start_time": "2024-04-24T13:11:49.788045Z"
    }
   },
   "outputs": [
    {
     "name": "stdout",
     "output_type": "stream",
     "text": [
      "Summarize [ALEX].\n"
     ]
    }
   ],
   "source": [
    "command['summarization'] = (\n",
    "    \"\"\"Summarize [ALEX].\"\"\"\n",
    ")\n",
    "\n",
    "print(command['summarization'])"
   ]
  },
  {
   "cell_type": "code",
   "execution_count": 28,
   "id": "4fa342bc28ccb41a",
   "metadata": {
    "collapsed": false,
    "ExecuteTime": {
     "end_time": "2024-04-24T13:11:49.998414Z",
     "start_time": "2024-04-24T13:11:49.984666Z"
    }
   },
   "outputs": [],
   "source": [
    "output_template['summarization'] = (\n",
    "    \"\"\"[SUMMARY]:\"\"\"\n",
    ")"
   ]
  },
  {
   "cell_type": "markdown",
   "id": "2775d2bfa876ae51",
   "metadata": {
    "collapsed": false
   },
   "source": [
    "# USER DESCRIPTION"
   ]
  },
  {
   "cell_type": "code",
   "execution_count": 29,
   "id": "5566ef10ff13a1d6",
   "metadata": {
    "collapsed": false,
    "ExecuteTime": {
     "end_time": "2024-04-24T13:11:50.427053Z",
     "start_time": "2024-04-24T13:11:50.410925Z"
    }
   },
   "outputs": [
    {
     "name": "stdout",
     "output_type": "stream",
     "text": [
      "Based on the information provided and the user id of the speaker of the next message, you have to write the description of the behavior of the speaker of the next message.\n",
      "You have to do it by identifying five main adjectives and for each adjective write an explanation, focusing also on how the speaker of the next message interacts with the other users. \n",
      "Use bullet points.\n",
      "The speaker of the next message will write the next message and select the addressee of the next message based on your description.\n"
     ]
    }
   ],
   "source": [
    "task_definition['describe_next_speaker'] = (\n",
    "\"\"\"Based on the information provided and the user id of the speaker of the next message, you have to write the description of the behavior of the speaker of the next message.\n",
    "You have to do it by identifying five main adjectives and for each adjective write an explanation, focusing also on how the speaker of the next message interacts with the other users. \n",
    "Use bullet points.\n",
    "The speaker of the next message will write the next message and select the addressee of the next message based on your description.\"\"\"\n",
    ")\n",
    "print(task_definition['describe_next_speaker'])"
   ]
  },
  {
   "cell_type": "code",
   "execution_count": 30,
   "id": "2a76db72b90f68f5",
   "metadata": {
    "collapsed": false,
    "ExecuteTime": {
     "end_time": "2024-04-24T13:11:50.618062Z",
     "start_time": "2024-04-24T13:11:50.605857Z"
    }
   },
   "outputs": [
    {
     "name": "stdout",
     "output_type": "stream",
     "text": [
      "You will be given the instruction\n",
      "    \n",
      "Describe <NEXT_SPEAKER_ID>.\n",
      "    \n",
      "Where <NEXT_SPEAKER_ID> is the user id of the speaker of the next message.\n",
      "<NEXT_SPEAKER_ID> is among the <SPEAKER_ID> appeared in the conversation.\n",
      "    \n",
      "You will output the description for the speaker of the next message with id <NEXT_SPEAKER_ID>, without any formality at the beginning.\n"
     ]
    }
   ],
   "source": [
    "instruction['describe_next_speaker'] = (\n",
    "\"\"\"You will be given the instruction\n",
    "    \n",
    "Describe <NEXT_SPEAKER_ID>.\n",
    "    \n",
    "Where <NEXT_SPEAKER_ID> is the user id of the speaker of the next message.\n",
    "<NEXT_SPEAKER_ID> is among the <SPEAKER_ID> appeared in the conversation.\n",
    "    \n",
    "You will output the description for the speaker of the next message with id <NEXT_SPEAKER_ID>, without any formality at the beginning.\"\"\"\n",
    ")\n",
    "print(instruction['describe_next_speaker'])"
   ]
  },
  {
   "cell_type": "code",
   "execution_count": 31,
   "id": "ea72adaf8861670b",
   "metadata": {
    "collapsed": false,
    "ExecuteTime": {
     "end_time": "2024-04-24T13:11:50.793707Z",
     "start_time": "2024-04-24T13:11:50.779085Z"
    }
   },
   "outputs": [
    {
     "name": "stdout",
     "output_type": "stream",
     "text": [
      "Your answer format must be as follows:\n",
      "    [DESCRIPTION]:\n",
      "       * ADJECTIVE: <ADJECTIVE1>  \n",
      "            + EXPLANATION: <EXPLANATION1>\n",
      "        * ADJECTIVE: <ADJECTIVE2> \n",
      "            + EXPLANATION: <EXPLANATION2>\n",
      "        * ADJECTIVE: <ADJECTIVE3> \n",
      "            + EXPLANATION: <EXPLANATION3>\n",
      "        * ADJECTIVE: <ADJECTIVE4> \n",
      "            + EXPLANATION: <EXPLANATION4>\n",
      "        * ADJECTIVE: <ADJECTIVE5> \n",
      "            + EXPLANATION: <EXPLANATION5>\n"
     ]
    }
   ],
   "source": [
    "output_format['describe_next_speaker'] = (\n",
    "    \"\"\"Your answer format must be as follows:\n",
    "    [DESCRIPTION]:\n",
    "       * ADJECTIVE: <ADJECTIVE1>  \n",
    "            + EXPLANATION: <EXPLANATION1>\n",
    "        * ADJECTIVE: <ADJECTIVE2> \n",
    "            + EXPLANATION: <EXPLANATION2>\n",
    "        * ADJECTIVE: <ADJECTIVE3> \n",
    "            + EXPLANATION: <EXPLANATION3>\n",
    "        * ADJECTIVE: <ADJECTIVE4> \n",
    "            + EXPLANATION: <EXPLANATION4>\n",
    "        * ADJECTIVE: <ADJECTIVE5> \n",
    "            + EXPLANATION: <EXPLANATION5>\"\"\"\n",
    ")\n",
    "print(output_format['describe_next_speaker'])"
   ]
  },
  {
   "cell_type": "code",
   "execution_count": 32,
   "id": "b381de84bda520aa",
   "metadata": {
    "collapsed": false,
    "ExecuteTime": {
     "end_time": "2024-04-24T13:11:50.965871Z",
     "start_time": "2024-04-24T13:11:50.951808Z"
    }
   },
   "outputs": [
    {
     "name": "stdout",
     "output_type": "stream",
     "text": [
      "Describe [ALEX].\n"
     ]
    }
   ],
   "source": [
    "command['describe_next_speaker'] = (\n",
    "    \"\"\"Describe [ALEX].\"\"\"\n",
    ")\n",
    "\n",
    "print(command['describe_next_speaker'])"
   ]
  },
  {
   "cell_type": "code",
   "execution_count": 33,
   "id": "e7ceb4a8bbbeaf12",
   "metadata": {
    "collapsed": false,
    "ExecuteTime": {
     "end_time": "2024-04-24T13:11:51.167645Z",
     "start_time": "2024-04-24T13:11:51.152873Z"
    }
   },
   "outputs": [
    {
     "name": "stdout",
     "output_type": "stream",
     "text": [
      "[DESCRIPTION]:\n"
     ]
    }
   ],
   "source": [
    "output_template['describe_next_speaker'] = (\n",
    "    \"\"\"[DESCRIPTION]:\"\"\"\n",
    ")\n",
    "\n",
    "print(output_template['describe_next_speaker'])"
   ]
  },
  {
   "cell_type": "markdown",
   "id": "bfaa90747f1ff90a",
   "metadata": {
    "collapsed": false
   },
   "source": [
    "# SAVE EVERYTHING"
   ]
  },
  {
   "cell_type": "code",
   "execution_count": 34,
   "id": "f03c418d446a6bd9",
   "metadata": {
    "collapsed": false,
    "ExecuteTime": {
     "end_time": "2024-04-24T13:11:51.554127Z",
     "start_time": "2024-04-24T13:11:51.541111Z"
    }
   },
   "outputs": [],
   "source": [
    "from prompt_creation import infoPrompt\n",
    "import pickle\n",
    "\n",
    "info = infoPrompt(scenario_description,\n",
    "           input_elements,\n",
    "           task_definition,\n",
    "           user_space_description,\n",
    "           input_format,\n",
    "           instruction,\n",
    "           output_format,\n",
    "           command,\n",
    "           output_template)\n",
    "\n",
    "with open('prompt_scheme_verbose.pkl', 'wb') as f:\n",
    "    pickle.dump(info, f)"
   ]
  },
  {
   "cell_type": "code",
   "execution_count": null,
   "id": "82dfd052580266a",
   "metadata": {
    "collapsed": false
   },
   "outputs": [],
   "source": []
  }
 ],
 "metadata": {
  "kernelspec": {
   "display_name": "Python 3",
   "language": "python",
   "name": "python3"
  },
  "language_info": {
   "codemirror_mode": {
    "name": "ipython",
    "version": 3
   },
   "file_extension": ".py",
   "mimetype": "text/x-python",
   "name": "python",
   "nbconvert_exporter": "python",
   "pygments_lexer": "ipython3",
   "version": "3.10.12"
  }
 },
 "nbformat": 4,
 "nbformat_minor": 5
}
