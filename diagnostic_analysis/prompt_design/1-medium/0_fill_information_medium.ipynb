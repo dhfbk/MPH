{
 "cells": [
  {
   "cell_type": "markdown",
   "id": "c27e30bd33d2240",
   "metadata": {
    "collapsed": false,
    "id": "c27e30bd33d2240"
   },
   "source": [
    "# *DON'T TOUCH! FIELDS TO FILL*"
   ]
  },
  {
   "cell_type": "code",
   "execution_count": 1,
   "id": "946a6765e34202d3",
   "metadata": {
    "id": "946a6765e34202d3",
    "ExecuteTime": {
     "end_time": "2024-05-17T13:06:48.413598Z",
     "start_time": "2024-05-17T13:06:46.825706Z"
    }
   },
   "outputs": [],
   "source": [
    "%reset"
   ]
  },
  {
   "cell_type": "code",
   "execution_count": 2,
   "id": "9b418cf332d9cfc7",
   "metadata": {
    "id": "9b418cf332d9cfc7",
    "ExecuteTime": {
     "end_time": "2024-05-17T13:06:48.424711Z",
     "start_time": "2024-05-17T13:06:48.418153Z"
    }
   },
   "outputs": [],
   "source": [
    "input_elements = {\n",
    "    'general_statement':\"\",\n",
    "    'conversation':\"\",\n",
    "    'interaction': \"\",\n",
    "    'summary':\"\",\n",
    "    'description':\"\"\n",
    "}\n",
    "\n",
    "task_definition = {\n",
    "    'response_selection':\"\",\n",
    "    'addressee_recognition':\"\",\n",
    "    'summarization':\"\",\n",
    "    'describe_next_speaker':\"\"\n",
    "}\n",
    "\n",
    "input_format = {\n",
    "    'conversation':\"\",\n",
    "    'interaction' : \"\",\n",
    "    'summary':\"\",\n",
    "    'description':\"\"\n",
    "}\n",
    "\n",
    "instruction = {\n",
    "    'response_selection':\"\",\n",
    "    'addressee_recognition':\"\",\n",
    "    'summarization':\"\",\n",
    "    'describe_next_speaker':\"\"\n",
    "}\n",
    "\n",
    "output_format = {\n",
    "    'response_selection':\"\",\n",
    "    'addressee_recognition':\"\",\n",
    "    'summarization':\"\",\n",
    "    'describe_next_speaker':\"\"\n",
    "}\n",
    "\n",
    "command = {\n",
    "    'response_selection':\"\",\n",
    "    'addressee_recognition':\"\",\n",
    "    'summarization':\"\",\n",
    "    'describe_next_speaker':\"\"\n",
    "}\n",
    "\n",
    "output_template = {\n",
    "    'response_selection':\"\",\n",
    "    'addressee_recognition':\"\",\n",
    "    'summarization':\"\",\n",
    "    'describe_next_speaker':\"\"\n",
    "}"
   ]
  },
  {
   "cell_type": "markdown",
   "id": "4df8a0518437eac6",
   "metadata": {
    "collapsed": false,
    "id": "4df8a0518437eac6"
   },
   "source": [
    "# SCENARIO DESCRIPTION\n",
    "Here you have to describe the scenario in which the LLM will work"
   ]
  },
  {
   "cell_type": "markdown",
   "id": "144cd8d8fa45a602",
   "metadata": {
    "collapsed": false,
    "id": "144cd8d8fa45a602"
   },
   "source": [
    "KEYWORDS: conversation, message, text, exchange, speaker, addressee"
   ]
  },
  {
   "cell_type": "code",
   "execution_count": 3,
   "id": "3d242879d37ab9a9",
   "metadata": {
    "id": "3d242879d37ab9a9",
    "outputId": "3ee56a2a-ceb9-445b-c6cb-7cfafa30ade5",
    "ExecuteTime": {
     "end_time": "2024-05-17T13:06:48.437848Z",
     "start_time": "2024-05-17T13:06:48.425569Z"
    }
   },
   "outputs": [
    {
     "name": "stdout",
     "output_type": "stream",
     "text": [
      "You are a system working on conversations.\n",
      "A conversation is a sequence of text messages exchanged among two or more speakers.\n",
      "Each message has associated the speaker who wrote the message and the addressee who the message is directed to.\n",
      "Each speaker can write and be addressed by multiple messages.\n",
      "Each message has an integer index based on their order in the conversation.\n"
     ]
    }
   ],
   "source": [
    "scenario_description = (\n",
    "\"\"\"You are a system working on conversations.\n",
    "A conversation is a sequence of text messages exchanged among two or more speakers.\n",
    "Each message has associated the speaker who wrote the message and the addressee who the message is directed to.\n",
    "Each speaker can write and be addressed by multiple messages.\n",
    "Each message has an integer index based on their order in the conversation.\"\"\"\n",
    ")\n",
    "\n",
    "print(scenario_description)"
   ]
  },
  {
   "cell_type": "markdown",
   "id": "95b5d012223fd07b",
   "metadata": {
    "collapsed": false,
    "id": "95b5d012223fd07b"
   },
   "source": [
    "# INPUT\n"
   ]
  },
  {
   "cell_type": "code",
   "execution_count": 4,
   "id": "ce22a34d0b72c111",
   "metadata": {
    "id": "ce22a34d0b72c111",
    "outputId": "db2cee88-18f8-4380-c908-4dea35415d50",
    "ExecuteTime": {
     "end_time": "2024-05-17T13:06:48.472107Z",
     "start_time": "2024-05-17T13:06:48.436769Z"
    }
   },
   "outputs": [
    {
     "name": "stdout",
     "output_type": "stream",
     "text": [
      "You are given in input the following information about a conversation, listed in the following bullet point list.\n"
     ]
    }
   ],
   "source": [
    "input_elements['general_statement'] = (\n",
    "\"\"\"You are given in input the following information about a conversation, listed in the following bullet point list.\"\"\"\n",
    ")\n",
    "print(input_elements['general_statement'])"
   ]
  },
  {
   "cell_type": "markdown",
   "id": "95c529ca87772ea1",
   "metadata": {
    "collapsed": false,
    "id": "95c529ca87772ea1"
   },
   "source": [
    "# CONVERSATION"
   ]
  },
  {
   "cell_type": "code",
   "execution_count": 5,
   "id": "f09d9882799d99ae",
   "metadata": {
    "id": "f09d9882799d99ae",
    "outputId": "ca2fee28-5c4a-4532-ecb6-d903c7823b7e",
    "ExecuteTime": {
     "end_time": "2024-05-17T13:06:48.735907Z",
     "start_time": "2024-05-17T13:06:48.717177Z"
    }
   },
   "outputs": [
    {
     "name": "stdout",
     "output_type": "stream",
     "text": [
      " * The transcript of the messages of the conversation, reporting the index, the speaker id and the text of each message in chronological order.\n"
     ]
    }
   ],
   "source": [
    "input_elements['conversation'] = (\n",
    "\"\"\" * The transcript of the messages of the conversation, reporting the index, the speaker id and the text of each message in chronological order.\"\"\"\n",
    ")\n",
    "print(input_elements['conversation'])"
   ]
  },
  {
   "cell_type": "code",
   "execution_count": 6,
   "id": "ddaec0df9029cc35",
   "metadata": {
    "id": "ddaec0df9029cc35",
    "outputId": "3a7b8b88-a875-47d2-bd86-c816fe41bc2d",
    "ExecuteTime": {
     "end_time": "2024-05-17T13:06:48.858908Z",
     "start_time": "2024-05-17T13:06:48.814341Z"
    }
   },
   "outputs": [
    {
     "name": "stdout",
     "output_type": "stream",
     "text": [
      "The transcript of the messages is reported between the tags [CONVERSATION] and [/CONVERSATION]. The format used for each message is:\n",
      "\n",
      "<N_TURN> : <SPEAKER_ID> [WRITES] <TEXT>\n",
      "\n",
      "where the index of the message is reported by the tag <N_TURN>, the speaker id of the message is reported by the tag <SPEAKER_ID>, and the text of the message is reported by the tag <TEXT>.\n"
     ]
    }
   ],
   "source": [
    "input_format['conversation'] = (\n",
    "\"\"\"The transcript of the messages is reported between the tags [CONVERSATION] and [/CONVERSATION]. The format used for each message is:\n",
    "\n",
    "<N_TURN> : <SPEAKER_ID> [WRITES] <TEXT>\n",
    "\n",
    "where the index of the message is reported by the tag <N_TURN>, the speaker id of the message is reported by the tag <SPEAKER_ID>, and the text of the message is reported by the tag <TEXT>.\"\"\"\n",
    ")\n",
    "print(input_format['conversation'])"
   ]
  },
  {
   "cell_type": "markdown",
   "id": "9c8e289436c3f209",
   "metadata": {
    "collapsed": false,
    "id": "9c8e289436c3f209"
   },
   "source": [
    "# INTERACTION"
   ]
  },
  {
   "cell_type": "code",
   "execution_count": 7,
   "id": "b49592bbae35fe40",
   "metadata": {
    "id": "b49592bbae35fe40",
    "outputId": "c19c4e51-71ef-49a4-d527-3d10fa11e2c7",
    "ExecuteTime": {
     "end_time": "2024-05-17T13:06:49.123506Z",
     "start_time": "2024-05-17T13:06:49.097516Z"
    }
   },
   "outputs": [
    {
     "name": "stdout",
     "output_type": "stream",
     "text": [
      " * The transcript of the interactions of the conversation, reporting the index, the speaker id and the addressee id of each message in chronological order.\n"
     ]
    }
   ],
   "source": [
    "input_elements['interaction'] = (\n",
    "\"\"\" * The transcript of the interactions of the conversation, reporting the index, the speaker id and the addressee id of each message in chronological order.\"\"\"\n",
    ")\n",
    "\n",
    "print(input_elements['interaction'])"
   ]
  },
  {
   "cell_type": "code",
   "execution_count": 8,
   "id": "d49aa26cd04b908a",
   "metadata": {
    "id": "d49aa26cd04b908a",
    "outputId": "3abc635b-91f7-4348-c5a8-89b5aa011a2a",
    "ExecuteTime": {
     "end_time": "2024-05-17T13:06:49.259836Z",
     "start_time": "2024-05-17T13:06:49.241255Z"
    }
   },
   "outputs": [
    {
     "name": "stdout",
     "output_type": "stream",
     "text": [
      "The transcript of the interactions is reported between the tags [INTERACTION] and [/INTERACTION]. The format used for each message is:\n",
      "\n",
      "<N_TURN> : <SPEAKER_ID> to <ADDRESSEE_ID>\n",
      "\n",
      "where the index of the message is reported by the tag <N_TURN>, the speaker id of the message is reported by the tag <SPEAKER_ID> and the addressee id of the message is reported by the tag <ADDRESSEE_ID>.\n"
     ]
    }
   ],
   "source": [
    "input_format['interaction'] = (\n",
    "\"\"\"The transcript of the interactions is reported between the tags [INTERACTION] and [/INTERACTION]. The format used for each message is:\n",
    "\n",
    "<N_TURN> : <SPEAKER_ID> to <ADDRESSEE_ID>\n",
    "\n",
    "where the index of the message is reported by the tag <N_TURN>, the speaker id of the message is reported by the tag <SPEAKER_ID> and the addressee id of the message is reported by the tag <ADDRESSEE_ID>.\"\"\"\n",
    ")\n",
    "\n",
    "print(input_format['interaction'])"
   ]
  },
  {
   "cell_type": "markdown",
   "id": "d7009637075d6971",
   "metadata": {
    "collapsed": false,
    "id": "d7009637075d6971"
   },
   "source": [
    "# SUMMARY"
   ]
  },
  {
   "cell_type": "code",
   "execution_count": 9,
   "id": "b906b631c73e7ac1",
   "metadata": {
    "id": "b906b631c73e7ac1",
    "outputId": "2b63e392-af65-44ac-fc25-964d01f70572",
    "ExecuteTime": {
     "end_time": "2024-05-17T13:06:49.547657Z",
     "start_time": "2024-05-17T13:06:49.527555Z"
    }
   },
   "outputs": [
    {
     "name": "stdout",
     "output_type": "stream",
     "text": [
      " * The summary of the conversation from the perspective of the next speaker.\n"
     ]
    }
   ],
   "source": [
    "input_elements['summary'] = (\n",
    "\"\"\" * The summary of the conversation from the perspective of the next speaker.\"\"\"\n",
    ")\n",
    "print(input_elements['summary'])"
   ]
  },
  {
   "cell_type": "code",
   "execution_count": 10,
   "id": "38589f185609838d",
   "metadata": {
    "id": "38589f185609838d",
    "outputId": "d5ee5649-1427-42cf-9eaa-421f1b27d1f0",
    "ExecuteTime": {
     "end_time": "2024-05-17T13:06:49.702520Z",
     "start_time": "2024-05-17T13:06:49.683642Z"
    }
   },
   "outputs": [
    {
     "name": "stdout",
     "output_type": "stream",
     "text": [
      "The summary is reported between the tags [SUMMARY] and [/SUMMARY].\n"
     ]
    }
   ],
   "source": [
    "input_format['summary'] = (\n",
    "    \"\"\"The summary is reported between the tags [SUMMARY] and [/SUMMARY].\"\"\"\n",
    ")\n",
    "print(input_format['summary'])"
   ]
  },
  {
   "cell_type": "markdown",
   "id": "e25cf65e7775e25b",
   "metadata": {
    "collapsed": false,
    "id": "e25cf65e7775e25b"
   },
   "source": []
  },
  {
   "cell_type": "markdown",
   "id": "7b2ef792c7c922d6",
   "metadata": {
    "collapsed": false,
    "id": "7b2ef792c7c922d6"
   },
   "source": [
    "# DESCRIPTION"
   ]
  },
  {
   "cell_type": "code",
   "execution_count": 11,
   "id": "e3ce4b39f0a3fc48",
   "metadata": {
    "id": "e3ce4b39f0a3fc48",
    "outputId": "3d82e018-7e03-4cdd-aac0-faf5aeffb952",
    "ExecuteTime": {
     "end_time": "2024-05-17T13:06:50.133141Z",
     "start_time": "2024-05-17T13:06:50.114337Z"
    }
   },
   "outputs": [
    {
     "name": "stdout",
     "output_type": "stream",
     "text": [
      " * The description of the next speaker in the current conversation.\n"
     ]
    }
   ],
   "source": [
    "input_elements['description'] = (\n",
    "\"\"\" * The description of the next speaker in the current conversation.\"\"\"\n",
    ")\n",
    "print(input_elements['description'])"
   ]
  },
  {
   "cell_type": "code",
   "execution_count": 12,
   "id": "a02b887bb481d2b0",
   "metadata": {
    "id": "a02b887bb481d2b0",
    "outputId": "b963c544-ac3c-4175-cb9c-603148f39ad0",
    "ExecuteTime": {
     "end_time": "2024-05-17T13:06:50.290658Z",
     "start_time": "2024-05-17T13:06:50.268589Z"
    }
   },
   "outputs": [
    {
     "name": "stdout",
     "output_type": "stream",
     "text": [
      "The description is reported between the tags [DESCRIPTION] and [/DESCRIPTION].\n"
     ]
    }
   ],
   "source": [
    "input_format['description'] = (\n",
    "\"\"\"The description is reported between the tags [DESCRIPTION] and [/DESCRIPTION].\"\"\"\n",
    ")\n",
    "print(input_format['description'])"
   ]
  },
  {
   "cell_type": "markdown",
   "id": "7da93ef2e4222d5c",
   "metadata": {
    "collapsed": false,
    "id": "7da93ef2e4222d5c"
   },
   "source": [
    "# USER SPACE DESCRIPTION"
   ]
  },
  {
   "cell_type": "code",
   "execution_count": 13,
   "id": "8a486a2ed2a8f4b7",
   "metadata": {
    "id": "8a486a2ed2a8f4b7",
    "outputId": "54ee38e3-11b1-4c4c-876f-15887cf36c22",
    "ExecuteTime": {
     "end_time": "2024-05-17T13:06:50.558759Z",
     "start_time": "2024-05-17T13:06:50.539609Z"
    }
   },
   "outputs": [
    {
     "name": "stdout",
     "output_type": "stream",
     "text": [
      "The possible speaker ids in the conversation are [ALEX], [BENNY], [CAM] and [DANA].\n",
      "The speaker ids are used to identify both the speakers and the addressees in the conversation.\n",
      "The same speaker id or addressee id consistently represent the same individual in the conversation.\n",
      "Each speaker can address to one of the speakers identified above or to [OTHER].\n",
      "[OTHER] means the speaker is addressing to a speaker who is not in the conversation.\n"
     ]
    }
   ],
   "source": [
    "user_space_description = (\n",
    "\"\"\"The possible speaker ids in the conversation are [ALEX], [BENNY], [CAM] and [DANA].\n",
    "The speaker ids are used to identify both the speakers and the addressees in the conversation.\n",
    "The same speaker id or addressee id consistently represent the same individual in the conversation.\n",
    "Each speaker can address to one of the speakers identified above or to [OTHER].\n",
    "[OTHER] means the speaker is addressing to a speaker who is not in the conversation.\"\"\"\n",
    ")\n",
    "print(user_space_description)"
   ]
  },
  {
   "cell_type": "markdown",
   "id": "1592221631550fd7",
   "metadata": {
    "collapsed": false,
    "id": "1592221631550fd7"
   },
   "source": [
    "# RESPONSE SELECTION"
   ]
  },
  {
   "cell_type": "code",
   "execution_count": 14,
   "id": "7e30dabe480b8b0e",
   "metadata": {
    "id": "7e30dabe480b8b0e",
    "outputId": "8c1b37f7-3f56-471a-ab82-71a48c6f324b",
    "ExecuteTime": {
     "end_time": "2024-05-17T13:06:50.857675Z",
     "start_time": "2024-05-17T13:06:50.837727Z"
    }
   },
   "outputs": [
    {
     "name": "stdout",
     "output_type": "stream",
     "text": [
      "Based on the information provided and the next speaker id, you have to write the next message in the conversation.\n"
     ]
    }
   ],
   "source": [
    "task_definition['response_selection'] = (\n",
    "\"\"\"Based on the information provided and the next speaker id, you have to write the next message in the conversation.\"\"\"\n",
    ")\n",
    "print(task_definition['response_selection'])"
   ]
  },
  {
   "cell_type": "code",
   "execution_count": 15,
   "id": "cda6a78a08b9c695",
   "metadata": {
    "id": "cda6a78a08b9c695",
    "outputId": "8c6ffadb-42d5-41f9-83e2-37fed4ad7220",
    "ExecuteTime": {
     "end_time": "2024-05-17T13:06:51.009375Z",
     "start_time": "2024-05-17T13:06:50.990557Z"
    }
   },
   "outputs": [
    {
     "name": "stdout",
     "output_type": "stream",
     "text": [
      "You will be given the instruction\n",
      "\n",
      "Write next message from <NEXT_SPEAKER_ID>.\n",
      "\n",
      "You will output the next message in the conversation written by <NEXT_SPEAKER_ID>, without any formality at the beginning.\n"
     ]
    }
   ],
   "source": [
    "instruction['response_selection'] = (\n",
    "\"\"\"You will be given the instruction\n",
    "\n",
    "Write next message from <NEXT_SPEAKER_ID>.\n",
    "\n",
    "You will output the next message in the conversation written by <NEXT_SPEAKER_ID>, without any formality at the beginning.\"\"\"\n",
    ")\n",
    "print(instruction['response_selection'])"
   ]
  },
  {
   "cell_type": "code",
   "execution_count": 16,
   "id": "18f47e8bed7e37f0",
   "metadata": {
    "id": "18f47e8bed7e37f0",
    "outputId": "1e4ed65b-d35c-45b4-da3f-13d7dcd837a9",
    "ExecuteTime": {
     "end_time": "2024-05-17T13:06:51.172569Z",
     "start_time": "2024-05-17T13:06:51.153220Z"
    }
   },
   "outputs": [
    {
     "name": "stdout",
     "output_type": "stream",
     "text": [
      "Your answer format must be as follows:\n",
      "[ANSWER]: <NEXT_SPEAKER_ID> [WRITES] <NEXT_TEXT>\n"
     ]
    }
   ],
   "source": [
    "output_format['response_selection'] = (\n",
    "\"\"\"Your answer format must be as follows:\n",
    "[ANSWER]: <NEXT_SPEAKER_ID> [WRITES] <NEXT_TEXT>\"\"\"\n",
    ")\n",
    "print(output_format['response_selection'])"
   ]
  },
  {
   "cell_type": "code",
   "execution_count": 17,
   "id": "8bb2b719703bec90",
   "metadata": {
    "id": "8bb2b719703bec90",
    "outputId": "76925200-2182-4e04-cceb-ebf2748f531c",
    "ExecuteTime": {
     "end_time": "2024-05-17T13:06:51.336225Z",
     "start_time": "2024-05-17T13:06:51.320042Z"
    }
   },
   "outputs": [
    {
     "name": "stdout",
     "output_type": "stream",
     "text": [
      "Write next message from [ALEX].\n"
     ]
    }
   ],
   "source": [
    "command['response_selection'] = (\n",
    "\"\"\"Write next message from [ALEX].\"\"\"\n",
    ")\n",
    "\n",
    "print(command['response_selection'])"
   ]
  },
  {
   "cell_type": "code",
   "execution_count": 18,
   "id": "e111ae8ac4cee642",
   "metadata": {
    "id": "e111ae8ac4cee642",
    "outputId": "d00abbb3-df2b-4546-e7e7-a959b7d8dae5",
    "ExecuteTime": {
     "end_time": "2024-05-17T13:06:51.517629Z",
     "start_time": "2024-05-17T13:06:51.499867Z"
    }
   },
   "outputs": [
    {
     "name": "stdout",
     "output_type": "stream",
     "text": [
      "[ANSWER]: [ALEX] [WRITES] \n"
     ]
    }
   ],
   "source": [
    "output_template['response_selection'] = (\n",
    "\"\"\"[ANSWER]: [ALEX] [WRITES] \"\"\"\n",
    ")\n",
    "\n",
    "print(output_template['response_selection'])"
   ]
  },
  {
   "cell_type": "markdown",
   "id": "4bafcd0611dd71e",
   "metadata": {
    "collapsed": false,
    "id": "4bafcd0611dd71e"
   },
   "source": [
    "# ADDRESSEE RECOGNITION"
   ]
  },
  {
   "cell_type": "code",
   "execution_count": 19,
   "id": "dca0115f89fd0946",
   "metadata": {
    "id": "dca0115f89fd0946",
    "outputId": "cafc20f2-76c0-4739-fb8e-028a1ff5d9ef",
    "ExecuteTime": {
     "end_time": "2024-05-17T13:06:52.121749Z",
     "start_time": "2024-05-17T13:06:52.101853Z"
    }
   },
   "outputs": [
    {
     "name": "stdout",
     "output_type": "stream",
     "text": [
      "Based on the information provided and the next speaker id, you have to select the next addressee id.\n"
     ]
    }
   ],
   "source": [
    "task_definition['addressee_recognition'] = (\n",
    "\"\"\"Based on the information provided and the next speaker id, you have to select the next addressee id.\"\"\"\n",
    ")\n",
    "print(task_definition['addressee_recognition'])"
   ]
  },
  {
   "cell_type": "code",
   "execution_count": 20,
   "id": "6658fdb43695d8ea",
   "metadata": {
    "id": "6658fdb43695d8ea",
    "outputId": "24e225b0-8cd2-4ead-de4c-835c3d199967",
    "ExecuteTime": {
     "end_time": "2024-05-17T13:06:52.309580Z",
     "start_time": "2024-05-17T13:06:52.286731Z"
    }
   },
   "outputs": [
    {
     "name": "stdout",
     "output_type": "stream",
     "text": [
      "You will be given the instruction\n",
      "\n",
      "Write the addressee id of the next message from <NEXT_SPEAKER_ID>.\n",
      "\n",
      "You will select the addressee id of the next message written by <NEXT_SPEAKER_ID>, without any formality at the beginning.\n"
     ]
    }
   ],
   "source": [
    "instruction['addressee_recognition'] = (\n",
    "\"\"\"You will be given the instruction\n",
    "\n",
    "Write the addressee id of the next message from <NEXT_SPEAKER_ID>.\n",
    "\n",
    "You will select the addressee id of the next message written by <NEXT_SPEAKER_ID>, without any formality at the beginning.\"\"\"\n",
    ")\n",
    "print(instruction['addressee_recognition'])"
   ]
  },
  {
   "cell_type": "code",
   "execution_count": 21,
   "id": "35b879e6551eb80e",
   "metadata": {
    "id": "35b879e6551eb80e",
    "outputId": "34ddda61-6e94-4eaa-a4b1-22af807cbb2b",
    "ExecuteTime": {
     "end_time": "2024-05-17T13:06:52.481388Z",
     "start_time": "2024-05-17T13:06:52.460210Z"
    }
   },
   "outputs": [
    {
     "name": "stdout",
     "output_type": "stream",
     "text": [
      "Your answer format must be as follows:\n",
      "[ANSWER]: <NEXT_SPEAKER_ID> to <ADDRESSEE_ID>\n"
     ]
    }
   ],
   "source": [
    "output_format['addressee_recognition'] = (\n",
    "\"\"\"Your answer format must be as follows:\n",
    "[ANSWER]: <NEXT_SPEAKER_ID> to <NEXT_ADDRESSEE_ID>\"\"\"\n",
    ")\n",
    "print(output_format['addressee_recognition'])"
   ]
  },
  {
   "cell_type": "code",
   "execution_count": 22,
   "id": "8b26c32f07e73e5d",
   "metadata": {
    "id": "8b26c32f07e73e5d",
    "outputId": "64e67724-a595-4c23-b2ba-ee57f6a06b8e",
    "ExecuteTime": {
     "end_time": "2024-05-17T13:06:52.659800Z",
     "start_time": "2024-05-17T13:06:52.643603Z"
    }
   },
   "outputs": [
    {
     "name": "stdout",
     "output_type": "stream",
     "text": [
      "Write the addressee id of the next message from [ALEX].\n"
     ]
    }
   ],
   "source": [
    "command['addressee_recognition'] = (\n",
    "\"\"\"Write the addressee id of the next message from [ALEX].\"\"\"\n",
    ")\n",
    "\n",
    "print(command['addressee_recognition'])"
   ]
  },
  {
   "cell_type": "code",
   "execution_count": 23,
   "id": "97c69e46ed22abe6",
   "metadata": {
    "id": "97c69e46ed22abe6",
    "outputId": "58b7adc6-8e76-4516-9ea9-68e799b5aa91",
    "ExecuteTime": {
     "end_time": "2024-05-17T13:06:52.850202Z",
     "start_time": "2024-05-17T13:06:52.832984Z"
    }
   },
   "outputs": [
    {
     "name": "stdout",
     "output_type": "stream",
     "text": [
      "[ANSWER]: [ALEX] to \n"
     ]
    }
   ],
   "source": [
    "output_template['addressee_recognition'] = (\n",
    "\"\"\"[ANSWER]: [ALEX] to \"\"\"\n",
    ")\n",
    "\n",
    "print(output_template['addressee_recognition'])"
   ]
  },
  {
   "cell_type": "markdown",
   "id": "77aa0093953d02d7",
   "metadata": {
    "collapsed": false,
    "id": "77aa0093953d02d7"
   },
   "source": [
    "# SUMMARIZATION"
   ]
  },
  {
   "cell_type": "code",
   "execution_count": 24,
   "id": "d7abf720cc9e6f99",
   "metadata": {
    "id": "d7abf720cc9e6f99",
    "outputId": "fad881ea-8f02-475a-9fd5-2ec2fd32da63",
    "ExecuteTime": {
     "end_time": "2024-05-17T13:06:53.347771Z",
     "start_time": "2024-05-17T13:06:53.331094Z"
    }
   },
   "outputs": [
    {
     "name": "stdout",
     "output_type": "stream",
     "text": [
      "Based on the information provided and the next speaker id, you have to write the summary of the conversation from the perspective of the next speaker.\n",
      "You have to identify three main topics by focusing on how the next speaker interacts with the other speakers and for each topic write an explanation.\n",
      "Use bullet points to list.\n"
     ]
    }
   ],
   "source": [
    "task_definition['summarization'] = (\n",
    "\"\"\"Based on the information provided and the next speaker id, you have to write the summary of the conversation from the perspective of the next speaker.\n",
    "You have to identify three main topics by focusing on how the next speaker interacts with the other speakers and for each topic write an explanation.\n",
    "Use bullet points to list.\"\"\"\n",
    ")\n",
    "print(task_definition['summarization'])"
   ]
  },
  {
   "cell_type": "code",
   "execution_count": 25,
   "id": "f434afc01a5e70f0",
   "metadata": {
    "id": "f434afc01a5e70f0",
    "outputId": "e47c598d-2e85-4610-a8e3-07bfb55dd9f4",
    "ExecuteTime": {
     "end_time": "2024-05-17T13:06:53.526535Z",
     "start_time": "2024-05-17T13:06:53.510242Z"
    }
   },
   "outputs": [
    {
     "name": "stdout",
     "output_type": "stream",
     "text": [
      "You will be given the instruction\n",
      "\n",
      "Summarize <NEXT_SPEAKER_ID>.\n",
      "\n",
      "You will output the summary of the conversations from the perspective of <NEXT_SPEAKER_ID>, without any formality at the beginning.\n"
     ]
    }
   ],
   "source": [
    "instruction['summarization'] = (\n",
    "\"\"\"You will be given the instruction\n",
    "\n",
    "Summarize <NEXT_SPEAKER_ID>.\n",
    "\n",
    "You will output the summary of the conversations from the perspective of <NEXT_SPEAKER_ID>, without any formality at the beginning.\"\"\"\n",
    ")\n",
    "print(instruction['summarization'])"
   ]
  },
  {
   "cell_type": "code",
   "execution_count": 26,
   "id": "85afeac2b11f07b4",
   "metadata": {
    "id": "85afeac2b11f07b4",
    "outputId": "4720083b-b5c5-4c7d-85d7-2c53a090833c",
    "ExecuteTime": {
     "end_time": "2024-05-17T13:06:53.683223Z",
     "start_time": "2024-05-17T13:06:53.667516Z"
    }
   },
   "outputs": [
    {
     "name": "stdout",
     "output_type": "stream",
     "text": [
      "Your answer format must be as follows:\n",
      "[SUMMARY]:\n",
      "    * TOPIC: <TOPIC1>\n",
      "        + EXPLANATION: <EXPLANATION1>\n",
      "    * TOPIC: <TOPIC2>\n",
      "        + EXPLANATION: <EXPLANATION2>\n",
      "    * TOPIC: <TOPIC3>\n",
      "        + EXPLANATION: <EXPLANATION3>\n"
     ]
    }
   ],
   "source": [
    "output_format['summarization'] = (\n",
    "\"\"\"Your answer format must be as follows:\n",
    "[SUMMARY]:\n",
    "    * TOPIC: <TOPIC1>\n",
    "        + EXPLANATION: <EXPLANATION1>\n",
    "    * TOPIC: <TOPIC2>\n",
    "        + EXPLANATION: <EXPLANATION2>\n",
    "    * TOPIC: <TOPIC3>\n",
    "        + EXPLANATION: <EXPLANATION3>\"\"\"\n",
    ")\n",
    "print(output_format['summarization'])"
   ]
  },
  {
   "cell_type": "code",
   "execution_count": 27,
   "id": "2b4bba91b7b0e405",
   "metadata": {
    "id": "2b4bba91b7b0e405",
    "outputId": "01daab55-66f2-432c-f1c0-eaa3dd9cd847",
    "ExecuteTime": {
     "end_time": "2024-05-17T13:06:53.865380Z",
     "start_time": "2024-05-17T13:06:53.849786Z"
    }
   },
   "outputs": [
    {
     "name": "stdout",
     "output_type": "stream",
     "text": [
      "Summarize [ALEX].\n"
     ]
    }
   ],
   "source": [
    "command['summarization'] = (\n",
    "    \"\"\"Summarize [ALEX].\"\"\"\n",
    ")\n",
    "\n",
    "print(command['summarization'])"
   ]
  },
  {
   "cell_type": "code",
   "execution_count": 28,
   "id": "4fa342bc28ccb41a",
   "metadata": {
    "id": "4fa342bc28ccb41a",
    "ExecuteTime": {
     "end_time": "2024-05-17T13:06:54.043709Z",
     "start_time": "2024-05-17T13:06:54.023349Z"
    }
   },
   "outputs": [],
   "source": [
    "output_template['summarization'] = (\n",
    "    \"\"\"[SUMMARY]:\"\"\"\n",
    ")"
   ]
  },
  {
   "cell_type": "markdown",
   "id": "2775d2bfa876ae51",
   "metadata": {
    "collapsed": false,
    "id": "2775d2bfa876ae51"
   },
   "source": [
    "# USER DESCRIPTION"
   ]
  },
  {
   "cell_type": "code",
   "execution_count": 29,
   "id": "5566ef10ff13a1d6",
   "metadata": {
    "id": "5566ef10ff13a1d6",
    "outputId": "43b28c32-83c0-4b84-9a39-f6e18936769e",
    "ExecuteTime": {
     "end_time": "2024-05-17T13:06:54.386281Z",
     "start_time": "2024-05-17T13:06:54.369691Z"
    }
   },
   "outputs": [
    {
     "name": "stdout",
     "output_type": "stream",
     "text": [
      "Based on the information provided and the next speaker id, you have to write the description of the behavior of the next speaker.\n",
      "You have to identify five main adjectives by focusing on how the next speaker interacts with the other speakers and for each adjective write an explanation.\n",
      "Use bullet points to list.\n"
     ]
    }
   ],
   "source": [
    "task_definition['describe_next_speaker'] = (\n",
    "\"\"\"Based on the information provided and the next speaker id, you have to write the description of the behavior of the next speaker.\n",
    "You have to identify five main adjectives by focusing on how the next speaker interacts with the other speakers and for each adjective write an explanation.\n",
    "Use bullet points to list.\"\"\"\n",
    ")\n",
    "print(task_definition['describe_next_speaker'])"
   ]
  },
  {
   "cell_type": "code",
   "execution_count": 30,
   "id": "2a76db72b90f68f5",
   "metadata": {
    "id": "2a76db72b90f68f5",
    "outputId": "c058dcb4-34ca-47e5-f8ee-336dc51c3fc2",
    "ExecuteTime": {
     "end_time": "2024-05-17T13:06:54.603924Z",
     "start_time": "2024-05-17T13:06:54.577529Z"
    }
   },
   "outputs": [
    {
     "name": "stdout",
     "output_type": "stream",
     "text": [
      "You will be given the instruction\n",
      "\n",
      "Describe <NEXT_SPEAKER_ID>.\n",
      "\n",
      "You will output the description for <NEXT_SPEAKER_ID>, without any formality at the beginning.\n"
     ]
    }
   ],
   "source": [
    "instruction['describe_next_speaker'] = (\n",
    "\"\"\"You will be given the instruction\n",
    "\n",
    "Describe <NEXT_SPEAKER_ID>.\n",
    "\n",
    "You will output the description for <NEXT_SPEAKER_ID>, without any formality at the beginning.\"\"\"\n",
    ")\n",
    "print(instruction['describe_next_speaker'])"
   ]
  },
  {
   "cell_type": "code",
   "execution_count": 31,
   "id": "ea72adaf8861670b",
   "metadata": {
    "id": "ea72adaf8861670b",
    "outputId": "5d3fe828-3133-4455-d383-ac25d775df5c",
    "ExecuteTime": {
     "end_time": "2024-05-17T13:06:54.722049Z",
     "start_time": "2024-05-17T13:06:54.704731Z"
    }
   },
   "outputs": [
    {
     "name": "stdout",
     "output_type": "stream",
     "text": [
      "Your answer format must be as follows:\n",
      "[DESCRIPTION]:\n",
      "    * ADJECTIVE: <ADJECTIVE1>\n",
      "        + EXPLANATION: <EXPLANATION1>\n",
      "    * ADJECTIVE: <ADJECTIVE2>\n",
      "        + EXPLANATION: <EXPLANATION2>\n",
      "    * ADJECTIVE: <ADJECTIVE3>\n",
      "        + EXPLANATION: <EXPLANATION3>\n",
      "    * ADJECTIVE: <ADJECTIVE4>\n",
      "        + EXPLANATION: <EXPLANATION4>\n",
      "    * ADJECTIVE: <ADJECTIVE5>\n",
      "        + EXPLANATION: <EXPLANATION5>\n"
     ]
    }
   ],
   "source": [
    "output_format['describe_next_speaker'] = (\n",
    "    \"\"\"Your answer format must be as follows:\n",
    "[DESCRIPTION]:\n",
    "    * ADJECTIVE: <ADJECTIVE1>\n",
    "        + EXPLANATION: <EXPLANATION1>\n",
    "    * ADJECTIVE: <ADJECTIVE2>\n",
    "        + EXPLANATION: <EXPLANATION2>\n",
    "    * ADJECTIVE: <ADJECTIVE3>\n",
    "        + EXPLANATION: <EXPLANATION3>\n",
    "    * ADJECTIVE: <ADJECTIVE4>\n",
    "        + EXPLANATION: <EXPLANATION4>\n",
    "    * ADJECTIVE: <ADJECTIVE5>\n",
    "        + EXPLANATION: <EXPLANATION5>\"\"\"\n",
    ")\n",
    "print(output_format['describe_next_speaker'])"
   ]
  },
  {
   "cell_type": "code",
   "execution_count": 32,
   "id": "b381de84bda520aa",
   "metadata": {
    "id": "b381de84bda520aa",
    "outputId": "fdf9174f-591b-4824-f6da-422591212d2d",
    "ExecuteTime": {
     "end_time": "2024-05-17T13:06:54.881768Z",
     "start_time": "2024-05-17T13:06:54.865026Z"
    }
   },
   "outputs": [
    {
     "name": "stdout",
     "output_type": "stream",
     "text": [
      "Describe [ALEX].\n"
     ]
    }
   ],
   "source": [
    "command['describe_next_speaker'] = (\n",
    "    \"\"\"Describe [ALEX].\"\"\"\n",
    ")\n",
    "\n",
    "print(command['describe_next_speaker'])"
   ]
  },
  {
   "cell_type": "code",
   "execution_count": 33,
   "id": "e7ceb4a8bbbeaf12",
   "metadata": {
    "id": "e7ceb4a8bbbeaf12",
    "outputId": "e8f4f2d6-041e-40dd-eb67-b96abae7fa14",
    "ExecuteTime": {
     "end_time": "2024-05-17T13:06:55.045249Z",
     "start_time": "2024-05-17T13:06:55.020751Z"
    }
   },
   "outputs": [
    {
     "name": "stdout",
     "output_type": "stream",
     "text": [
      "[DESCRIPTION]:\n"
     ]
    }
   ],
   "source": [
    "output_template['describe_next_speaker'] = (\n",
    "    \"\"\"[DESCRIPTION]:\"\"\"\n",
    ")\n",
    "\n",
    "print(output_template['describe_next_speaker'])"
   ]
  },
  {
   "cell_type": "markdown",
   "id": "bfaa90747f1ff90a",
   "metadata": {
    "collapsed": false,
    "id": "bfaa90747f1ff90a"
   },
   "source": [
    "# SAVE EVERYTHING"
   ]
  },
  {
   "cell_type": "code",
   "execution_count": 34,
   "id": "f03c418d446a6bd9",
   "metadata": {
    "id": "f03c418d446a6bd9",
    "ExecuteTime": {
     "end_time": "2024-05-17T13:06:55.383440Z",
     "start_time": "2024-05-17T13:06:55.359550Z"
    }
   },
   "outputs": [],
   "source": [
    "from prompt_creation import infoPrompt\n",
    "import pickle\n",
    "\n",
    "info = infoPrompt(scenario_description,\n",
    "           input_elements,\n",
    "           task_definition,\n",
    "           user_space_description,\n",
    "           input_format,\n",
    "           instruction,\n",
    "           output_format,\n",
    "           command,\n",
    "           output_template)\n",
    "\n",
    "with open('prompt_scheme_medium.pkl', 'wb') as f:\n",
    "    pickle.dump(info, f)"
   ]
  },
  {
   "cell_type": "code",
   "execution_count": 34,
   "outputs": [],
   "source": [],
   "metadata": {
    "collapsed": false,
    "ExecuteTime": {
     "end_time": "2024-05-17T13:06:55.568997Z",
     "start_time": "2024-05-17T13:06:55.516828Z"
    }
   },
   "id": "be8e9a00f2ce061e"
  },
  {
   "cell_type": "code",
   "execution_count": null,
   "outputs": [],
   "source": [],
   "metadata": {
    "collapsed": false
   },
   "id": "b36b97e488083a14"
  }
 ],
 "metadata": {
  "kernelspec": {
   "display_name": "Python 3",
   "language": "python",
   "name": "python3"
  },
  "language_info": {
   "codemirror_mode": {
    "name": "ipython",
    "version": 3
   },
   "file_extension": ".py",
   "mimetype": "text/x-python",
   "name": "python",
   "nbconvert_exporter": "python",
   "pygments_lexer": "ipython3",
   "version": "3.10.12"
  },
  "colab": {
   "provenance": []
  }
 },
 "nbformat": 4,
 "nbformat_minor": 5
}
